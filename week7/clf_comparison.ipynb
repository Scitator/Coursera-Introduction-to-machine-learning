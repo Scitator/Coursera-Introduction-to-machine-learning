{
 "cells": [
  {
   "cell_type": "code",
   "execution_count": 1,
   "metadata": {
    "collapsed": false
   },
   "outputs": [
    {
     "name": "stderr",
     "output_type": "stream",
     "text": [
      "/home/scitator/.conda/envs/python2/lib/python2.7/site-packages/matplotlib/font_manager.py:273: UserWarning: Matplotlib is building the font cache using fc-list. This may take a moment.\n",
      "  warnings.warn('Matplotlib is building the font cache using fc-list. This may take a moment.')\n"
     ]
    }
   ],
   "source": [
    "import numpy as np\n",
    "import pandas as pd\n",
    "import matplotlib.pyplot as plt\n",
    "%matplotlib inline"
   ]
  },
  {
   "cell_type": "code",
   "execution_count": 2,
   "metadata": {
    "collapsed": false
   },
   "outputs": [],
   "source": [
    "from sklearn.calibration import calibration_curve\n",
    "from sklearn.cross_validation import KFold\n",
    "from sklearn.metrics import roc_auc_score\n",
    "from sklearn.decomposition import PCA\n",
    "from sklearn.preprocessing import StandardScaler\n",
    "from sklearn.grid_search import GridSearchCV\n",
    "\n",
    "from sklearn.naive_bayes import GaussianNB\n",
    "\n",
    "from sklearn.linear_model import LogisticRegression\n",
    "\n",
    "from sklearn.svm import LinearSVC\n",
    "from sklearn.svm import SVC\n",
    "\n",
    "from sklearn.neighbors import KNeighborsClassifier\n",
    "\n",
    "from sklearn.ensemble import RandomForestClassifier\n",
    "from sklearn.ensemble import GradientBoostingClassifier\n",
    "from sklearn.ensemble import AdaBoostClassifier"
   ]
  },
  {
   "cell_type": "code",
   "execution_count": 3,
   "metadata": {
    "collapsed": true
   },
   "outputs": [],
   "source": [
    "import operator"
   ]
  },
  {
   "cell_type": "code",
   "execution_count": 4,
   "metadata": {
    "collapsed": true
   },
   "outputs": [],
   "source": [
    "def fillMissingData(df):\n",
    "    table = df.count()/df.shape[0]\n",
    "    i = 0\n",
    "    for x in table:\n",
    "        if x < 1.0: \n",
    "            if 'time' in df.columns.values[i]:\n",
    "                df[df.columns.values[i]].fillna(350, inplace=True)\n",
    "            else:\n",
    "                df[df.columns.values[i]].fillna(df[df.columns.values[i]].mean(), inplace=True)\n",
    "        i = i + 1\n",
    "    return df"
   ]
  },
  {
   "cell_type": "code",
   "execution_count": 5,
   "metadata": {
    "collapsed": true
   },
   "outputs": [],
   "source": [
    "def prepareData():\n",
    "    df = pd.read_csv('./features.csv', index_col='match_id')\n",
    "    y = df.radiant_win.values[:]\n",
    "    #df.fillna(600, inplace=True) # like 10 min after start\n",
    "    df = fillMissingData(df)\n",
    "    df.drop(['duration', 'radiant_win', 'tower_status_radiant', 'tower_status_dire', 'barracks_status_radiant', 'barracks_status_dire'], axis = 1, inplace=True)\n",
    "    return (df, y)"
   ]
  },
  {
   "cell_type": "code",
   "execution_count": 6,
   "metadata": {
    "collapsed": true
   },
   "outputs": [],
   "source": [
    "def dataPick(data):\n",
    "    N = np.max(np.unique(data[['r1_hero', 'r2_hero', 'r3_hero', 'r4_hero', 'r5_hero', 'd1_hero', 'd2_hero', 'd3_hero', 'd4_hero', 'd5_hero']].values))\n",
    "    X_pick = np.zeros((data.shape[0], N))\n",
    "\n",
    "    for i, match_id in enumerate(data.index):\n",
    "        for p in xrange(5):\n",
    "            X_pick[i, data.ix[match_id, 'r%d_hero' % (p+1)]-1] = 1\n",
    "            X_pick[i, data.ix[match_id, 'd%d_hero' % (p+1)]-1] = -1\n",
    "    for i, match_id in enumerate(data.index):\n",
    "        for p in xrange(5):\n",
    "            X_pick[i, data.ix[match_id, 'r%d_hero' % (p+1)]-1] = 1\n",
    "            X_pick[i, data.ix[match_id, 'd%d_hero' % (p+1)]-1] = -1\n",
    "    \n",
    "    res = data.drop(['lobby_type', 'r1_hero', 'r2_hero', 'r3_hero', 'r4_hero', 'r5_hero', 'd1_hero', 'd2_hero', 'd3_hero', 'd4_hero', 'd5_hero'], axis = 1)\n",
    "    \n",
    "    return np.hstack((res.values[:,:], X_pick))"
   ]
  },
  {
   "cell_type": "code",
   "execution_count": 7,
   "metadata": {
    "collapsed": false
   },
   "outputs": [],
   "source": [
    "(train_data, train_labels) = prepareData()"
   ]
  },
  {
   "cell_type": "code",
   "execution_count": 8,
   "metadata": {
    "collapsed": false
   },
   "outputs": [],
   "source": [
    "X = dataPick(train_data)"
   ]
  },
  {
   "cell_type": "code",
   "execution_count": 9,
   "metadata": {
    "collapsed": true
   },
   "outputs": [],
   "source": [
    "y = train_labels"
   ]
  },
  {
   "cell_type": "code",
   "execution_count": null,
   "metadata": {
    "collapsed": false
   },
   "outputs": [],
   "source": []
  },
  {
   "cell_type": "code",
   "execution_count": 28,
   "metadata": {
    "collapsed": true
   },
   "outputs": [],
   "source": [
    "# Create classifiers\n",
    "lr = LogisticRegression()\n",
    "gnb = GaussianNB()\n",
    "svc = LinearSVC(C=1.0)\n",
    "rfc = RandomForestClassifier(n_estimators=100)"
   ]
  },
  {
   "cell_type": "markdown",
   "metadata": {},
   "source": [
    "# Ordinary test"
   ]
  },
  {
   "cell_type": "code",
   "execution_count": 29,
   "metadata": {
    "collapsed": true
   },
   "outputs": [],
   "source": [
    "def testClassifiers(X,y):\n",
    "    kf = KFold(X.shape[0], n_folds=5, shuffle=True, random_state=42)\n",
    "    score = {}\n",
    "    for clf, name in [(lr, 'Logistic'),\n",
    "                  (gnb, 'Naive Bayes'),\n",
    "                  (svc, 'Support Vector Classification'),\n",
    "                  (rfc, 'Random Forest')]:\n",
    "        score_tmp = []\n",
    "        for train_index, test_index in kf:\n",
    "            X_train, X_test = X[train_index], X[test_index]\n",
    "            y_train, y_test = y[train_index], y[test_index]\n",
    "\n",
    "            clf.fit(X_train, y_train)\n",
    "            if hasattr(clf, \"predict_proba\"):\n",
    "                prob_pos = clf.predict_proba(X_test)[:, 1]\n",
    "            else:  # use decision function\n",
    "                prob_pos = clf.decision_function(X_test)\n",
    "                prob_pos = \\\n",
    "                    (prob_pos - prob_pos.min()) / (prob_pos.max() - prob_pos.min())\n",
    "            fraction_of_positives, mean_predicted_value = \\\n",
    "                calibration_curve(y_test, prob_pos, n_bins=10)\n",
    "\n",
    "            score_tmp.append(roc_auc_score(y_test, prob_pos))\n",
    "        score[name] = np.array(score_tmp).mean()\n",
    "    \n",
    "    score_sorted = sorted(score.items(), key=operator.itemgetter(1), reverse=True)\n",
    "    for x in score_sorted:\n",
    "        print \"Classifier - \", x[0], ', MRA: ', x[1]"
   ]
  },
  {
   "cell_type": "code",
   "execution_count": 30,
   "metadata": {
    "collapsed": false
   },
   "outputs": [
    {
     "name": "stdout",
     "output_type": "stream",
     "text": [
      "Classifier -  Naive Bayes , MRA:  0.707023094556\n",
      "Classifier -  Random Forest , MRA:  0.696199849804\n",
      "Classifier -  Logistic , MRA:  0.513447955418\n",
      "Classifier -  Support Vector Classification , MRA:  0.497812213812\n"
     ]
    }
   ],
   "source": [
    "testClassifiers(X, y)"
   ]
  },
  {
   "cell_type": "markdown",
   "metadata": {},
   "source": [
    "# Test with scale"
   ]
  },
  {
   "cell_type": "code",
   "execution_count": 10,
   "metadata": {
    "collapsed": true
   },
   "outputs": [],
   "source": [
    "scaler = StandardScaler()\n",
    "X_scale = scaler.fit_transform(X)"
   ]
  },
  {
   "cell_type": "code",
   "execution_count": 31,
   "metadata": {
    "collapsed": false
   },
   "outputs": [
    {
     "name": "stdout",
     "output_type": "stream",
     "text": [
      "Classifier -  Logistic , MRA:  0.752091473499\n",
      "Classifier -  Support Vector Classification , MRA:  0.747740590681\n",
      "Classifier -  Random Forest , MRA:  0.697400783161\n",
      "Classifier -  Naive Bayes , MRA:  0.674894517214\n"
     ]
    }
   ],
   "source": [
    "testClassifiers(X_scale, y)"
   ]
  },
  {
   "cell_type": "markdown",
   "metadata": {},
   "source": [
    "### without fillna\n",
    "1. Classifier -  Logistic , MRA:  0.751925110015\n",
    "2. Classifier -  Support Vector Classification , MRA:  0.747484959226\n",
    "3. Classifier -  Random Forest , MRA:  0.696883098439\n",
    "4. Classifier -  Naive Bayes , MRA:  0.676329602573\n",
    "### fillna 600\n",
    "1. Classifier -  Logistic , MRA:  0.752091473499\n",
    "2. Classifier -  Support Vector Classification , MRA:  0.746998109759\n",
    "3. Classifier -  Random Forest , MRA:  0.696726010178\n",
    "4. Classifier -  Naive Bayes , MRA:  0.674894517214"
   ]
  },
  {
   "cell_type": "markdown",
   "metadata": {},
   "source": [
    "# PCA"
   ]
  },
  {
   "cell_type": "code",
   "execution_count": 34,
   "metadata": {
    "collapsed": true
   },
   "outputs": [],
   "source": [
    "pca = PCA(n_components=150)"
   ]
  },
  {
   "cell_type": "code",
   "execution_count": 35,
   "metadata": {
    "collapsed": true
   },
   "outputs": [],
   "source": [
    "X_PCA = pca.fit_transform(X)"
   ]
  },
  {
   "cell_type": "code",
   "execution_count": 37,
   "metadata": {
    "collapsed": false
   },
   "outputs": [
    {
     "name": "stdout",
     "output_type": "stream",
     "text": [
      "Classifier -  Random Forest , MRA:  0.712578675283\n",
      "Classifier -  Logistic , MRA:  0.712532039844\n",
      "Classifier -  Naive Bayes , MRA:  0.709058603415\n",
      "Classifier -  Support Vector Classification , MRA:  0.5801028208\n"
     ]
    }
   ],
   "source": [
    "testClassifiers(X_PCA, y)"
   ]
  },
  {
   "cell_type": "markdown",
   "metadata": {},
   "source": [
    "# Parameters"
   ]
  },
  {
   "cell_type": "code",
   "execution_count": 32,
   "metadata": {
    "collapsed": true
   },
   "outputs": [],
   "source": [
    "gridLogistic = {'C': np.power(10.0, np.arange(-2, 2)), 'penalty':('l1', 'l2')}"
   ]
  },
  {
   "cell_type": "code",
   "execution_count": 33,
   "metadata": {
    "collapsed": false
   },
   "outputs": [],
   "source": [
    "kf = KFold(X.shape[0], n_folds=5, shuffle=True, random_state=42)\n",
    "gs = GridSearchCV(lr, gridLogistic, scoring='roc_auc', cv=kf, verbose=8, n_jobs=3)"
   ]
  },
  {
   "cell_type": "code",
   "execution_count": 34,
   "metadata": {
    "collapsed": false,
    "scrolled": true
   },
   "outputs": [
    {
     "name": "stdout",
     "output_type": "stream",
     "text": [
      "Fitting 5 folds for each of 22 candidates, totalling 110 fits\n"
     ]
    },
    {
     "name": "stderr",
     "output_type": "stream",
     "text": [
      "[Parallel(n_jobs=3)]: Done  12 tasks      | elapsed:    4.8s\n",
      "[Parallel(n_jobs=3)]: Done  35 tasks      | elapsed:   43.1s\n",
      "[Parallel(n_jobs=3)]: Done  66 tasks      | elapsed:  3.6min\n",
      "[Parallel(n_jobs=3)]: Done 110 out of 110 | elapsed:  7.0min finished\n"
     ]
    },
    {
     "name": "stdout",
     "output_type": "stream",
     "text": [
      "[CV] penalty=l1, C=1e-05 .............................................\n",
      "[CV] penalty=l1, C=1e-05 .............................................\n",
      "[CV] penalty=l1, C=1e-05 .............................................\n",
      "[CV] .................... penalty=l1, C=1e-05, score=0.500000 -   0.7s[CV] .................... penalty=l1, C=1e-05, score=0.500000 -   1.1s[CV] .................... penalty=l1, C=1e-05, score=0.500000 -   1.1s\n",
      "\n",
      "\n",
      "[CV] penalty=l1, C=1e-05 .............................................\n",
      "[CV] penalty=l2, C=1e-05 .............................................\n",
      "[CV] penalty=l1, C=1e-05 .............................................\n",
      "[CV] .................... penalty=l1, C=1e-05, score=0.500000 -   0.8s[CV] .................... penalty=l2, C=1e-05, score=0.710976 -   1.6s[CV] .................... penalty=l1, C=1e-05, score=0.500000 -   0.8s\n",
      "\n",
      "\n",
      "[CV] penalty=l2, C=1e-05 .............................................\n",
      "[CV] penalty=l2, C=1e-05 .............................................\n",
      "[CV] penalty=l2, C=1e-05 .............................................\n",
      "[CV] .................... penalty=l2, C=1e-05, score=0.712960 -   1.4s[CV] .................... penalty=l2, C=1e-05, score=0.714644 -   1.6s[CV] .................... penalty=l2, C=1e-05, score=0.712594 -   1.4s\n",
      "\n",
      "\n",
      "[CV] penalty=l2, C=1e-05 .............................................\n",
      "[CV] penalty=l1, C=0.0001 ............................................\n",
      "[CV] penalty=l1, C=0.0001 ............................................\n",
      "[CV] .................... penalty=l2, C=1e-05, score=0.715636 -   1.5s[CV] ................... penalty=l1, C=0.0001, score=0.500000 -   1.0s[CV] ................... penalty=l1, C=0.0001, score=0.500000 -   0.6s\n",
      "\n",
      "\n",
      "[CV] penalty=l1, C=0.0001 ............................................\n",
      "[CV] penalty=l2, C=0.0001 ............................................\n",
      "[CV] penalty=l1, C=0.0001 ............................................\n",
      "[CV] ................... penalty=l1, C=0.0001, score=0.500000 -   0.9s[CV] ................... penalty=l2, C=0.0001, score=0.742605 -   2.1s[CV] ................... penalty=l1, C=0.0001, score=0.500000 -   0.7s\n",
      "\n",
      "\n",
      "[CV] penalty=l2, C=0.0001 ............................................\n",
      "[CV] penalty=l2, C=0.0001 ............................................\n",
      "[CV] penalty=l1, C=0.0001 ............................................\n",
      "[CV] ................... penalty=l2, C=0.0001, score=0.741572 -   2.5s[CV] ................... penalty=l2, C=0.0001, score=0.746482 -   2.4s[CV] ................... penalty=l1, C=0.0001, score=0.500000 -   0.6s\n",
      "\n",
      "\n",
      "[CV] penalty=l2, C=0.0001 ............................................\n",
      "[CV] penalty=l1, C=0.001 .............................................\n",
      "[CV] penalty=l2, C=0.0001 ............................................\n",
      "[CV] ................... penalty=l2, C=0.0001, score=0.744167 -   2.6s[CV] .................... penalty=l1, C=0.001, score=0.725592 -   2.6s[CV] ................... penalty=l2, C=0.0001, score=0.740279 -   2.6s\n",
      "\n",
      "\n",
      "[CV] penalty=l1, C=0.001 .............................................\n",
      "[CV] penalty=l2, C=0.001 .............................................\n",
      "[CV] penalty=l1, C=0.001 .............................................\n",
      "[CV] .................... penalty=l1, C=0.001, score=0.726988 -   2.7s[CV] .................... penalty=l2, C=0.001, score=0.748922 -   4.8s[CV] .................... penalty=l1, C=0.001, score=0.722527 -   2.1s\n",
      "\n",
      "\n",
      "[CV] penalty=l2, C=0.001 .............................................\n",
      "[CV] penalty=l2, C=0.001 .............................................\n",
      "[CV] penalty=l1, C=0.001 .............................................\n",
      "[CV] .................... penalty=l2, C=0.001, score=0.752804 -   4.4s[CV] .................... penalty=l2, C=0.001, score=0.755931 -   4.4s[CV] .................... penalty=l1, C=0.001, score=0.723501 -   2.2s\n",
      "\n",
      "\n",
      "[CV] penalty=l2, C=0.001 .............................................\n",
      "[CV] penalty=l1, C=0.01 ..............................................\n",
      "[CV] penalty=l1, C=0.001 .............................................\n",
      "[CV] .................... penalty=l2, C=0.001, score=0.751665 -   5.5s[CV] ..................... penalty=l1, C=0.01, score=0.753020 -  13.2s[CV] .................... penalty=l1, C=0.001, score=0.726806 -   2.4s\n",
      "\n",
      "\n",
      "[CV] penalty=l1, C=0.01 ..............................................\n",
      "[CV] penalty=l2, C=0.01 ..............................................\n",
      "[CV] penalty=l2, C=0.001 .............................................\n",
      "[CV] ..................... penalty=l1, C=0.01, score=0.749128 -  10.6s[CV] ..................... penalty=l2, C=0.01, score=0.749338 -   8.1s[CV] .................... penalty=l2, C=0.001, score=0.749657 -   5.2s\n",
      "\n",
      "\n",
      "[CV] penalty=l1, C=0.01 ..............................................\n",
      "[CV] penalty=l2, C=0.01 ..............................................\n",
      "[CV] penalty=l1, C=0.01 ..............................................\n",
      "[CV] ..................... penalty=l1, C=0.01, score=0.751756 -  10.6s[CV] ..................... penalty=l2, C=0.01, score=0.749826 -   5.8s[CV] ..................... penalty=l1, C=0.01, score=0.748835 -   9.4s\n",
      "\n",
      "\n",
      "[CV] penalty=l2, C=0.01 ..............................................\n",
      "[CV] penalty=l1, C=0.1 ...............................................\n",
      "[CV] penalty=l1, C=0.01 ..............................................\n",
      "[CV] ..................... penalty=l2, C=0.01, score=0.756235 -   6.9s[CV] ...................... penalty=l1, C=0.1, score=0.749310 -  28.4s[CV] ..................... penalty=l1, C=0.01, score=0.755427 -   9.9s\n",
      "\n",
      "\n",
      "[CV] penalty=l1, C=0.1 ...............................................\n",
      "[CV] penalty=l1, C=0.1 ...............................................\n",
      "[CV] penalty=l2, C=0.01 ..............................................\n",
      "[CV] ...................... penalty=l1, C=0.1, score=0.753668 -  27.2s[CV] ...................... penalty=l1, C=0.1, score=0.756212 -  35.3s[CV] ..................... penalty=l2, C=0.01, score=0.753596 -   7.1s\n",
      "\n",
      "\n",
      "[CV] penalty=l1, C=0.1 ...............................................\n",
      "[CV] penalty=l1, C=1.0 ...............................................\n",
      "[CV] penalty=l2, C=0.01 ..............................................\n",
      "[CV] ...................... penalty=l1, C=0.1, score=0.751737 -  22.3s[CV] ...................... penalty=l1, C=1.0, score=0.753603 -  23.6s[CV] ..................... penalty=l2, C=0.01, score=0.751652 -   7.7s\n",
      "\n",
      "\n",
      "[CV] penalty=l2, C=0.1 ...............................................\n",
      "[CV] penalty=l2, C=1.0 ...............................................\n",
      "[CV] penalty=l1, C=0.1 ...............................................\n",
      "[CV] ...................... penalty=l2, C=0.1, score=0.756169 -   7.5s[CV] ...................... penalty=l2, C=1.0, score=0.749348 -   9.3s[CV] ...................... penalty=l1, C=0.1, score=0.749761 -  25.4s\n",
      "\n",
      "\n",
      "[CV] penalty=l1, C=1.0 ...............................................\n",
      "[CV] penalty=l2, C=1.0 ...............................................\n",
      "[CV] penalty=l2, C=0.1 ...............................................\n",
      "[CV] ...................... penalty=l1, C=1.0, score=0.749340 -  26.7s[CV] ...................... penalty=l2, C=1.0, score=0.753596 -   9.7s[CV] ...................... penalty=l2, C=0.1, score=0.749350 -   9.4s\n",
      "\n",
      "\n",
      "[CV] penalty=l1, C=1.0 ...............................................\n",
      "[CV] penalty=l2, C=1.0 ...............................................\n",
      "[CV] penalty=l2, C=0.1 ...............................................\n",
      "[CV] ...................... penalty=l1, C=1.0, score=0.751593 -  28.3s[CV] ...................... penalty=l2, C=1.0, score=0.749779 -   9.9s[CV] ...................... penalty=l2, C=0.1, score=0.753598 -   9.2s\n",
      "\n",
      "\n",
      "[CV] penalty=l2, C=1.0 ...............................................\n",
      "[CV] penalty=l1, C=10.0 ..............................................\n",
      "[CV] penalty=l2, C=0.1 ...............................................\n",
      "[CV] ...................... penalty=l2, C=1.0, score=0.751572 -   8.8s[CV] ..................... penalty=l1, C=10.0, score=0.749346 -  23.5s[CV] ...................... penalty=l2, C=0.1, score=0.749785 -   8.7s\n",
      "\n",
      "\n",
      "[CV] penalty=l1, C=10.0 ..............................................\n",
      "[CV] penalty=l1, C=10.0 ..............................................\n",
      "[CV] penalty=l2, C=0.1 ...............................................\n",
      "[CV] ..................... penalty=l1, C=10.0, score=0.749777 -  24.1s[CV] ..................... penalty=l1, C=10.0, score=0.756165 -  26.6s[CV] ...................... penalty=l2, C=0.1, score=0.751581 -   7.8s\n",
      "\n",
      "\n",
      "[CV] penalty=l2, C=10.0 ..............................................\n",
      "[CV] penalty=l2, C=10.0 ..............................................\n",
      "[CV] penalty=l1, C=1.0 ...............................................\n",
      "[CV] ..................... penalty=l2, C=10.0, score=0.749348 -   8.5s[CV] ..................... penalty=l2, C=10.0, score=0.756162 -   7.3s[CV] ...................... penalty=l1, C=1.0, score=0.749774 -  20.0s\n",
      "\n",
      "\n",
      "[CV] penalty=l2, C=10.0 ..............................................\n",
      "[CV] penalty=l1, C=100.0 .............................................\n",
      "[CV] penalty=l1, C=1.0 ...............................................\n",
      "[CV] ..................... penalty=l2, C=10.0, score=0.753595 -   7.1s[CV] .................... penalty=l1, C=100.0, score=0.753600 -  22.4s[CV] ...................... penalty=l1, C=1.0, score=0.756173 -  23.3s\n",
      "\n",
      "\n",
      "[CV] penalty=l2, C=10.0 ..............................................\n",
      "[CV] penalty=l2, C=100.0 .............................................\n",
      "[CV] penalty=l2, C=1.0 ...............................................\n",
      "[CV] ..................... penalty=l2, C=10.0, score=0.749778 -   6.5s[CV] .................... penalty=l2, C=100.0, score=0.749348 -  10.4s[CV] ...................... penalty=l2, C=1.0, score=0.756163 -   7.6s\n",
      "\n",
      "\n",
      "[CV] penalty=l1, C=100.0 .............................................\n",
      "[CV] penalty=l2, C=100.0 .............................................\n",
      "[CV] penalty=l1, C=10.0 ..............................................\n",
      "[CV] .................... penalty=l1, C=100.0, score=0.749347 -  16.7s[CV] .................... penalty=l2, C=100.0, score=0.753595 -   9.2s[CV] ..................... penalty=l1, C=10.0, score=0.753601 -  24.5s\n",
      "\n",
      "\n",
      "[CV] penalty=l1, C=100.0 .............................................\n",
      "[CV] penalty=l2, C=100.0 .............................................\n",
      "[CV] penalty=l1, C=10.0 ..............................................\n",
      "[CV] .................... penalty=l1, C=100.0, score=0.756164 -  26.2s[CV] .................... penalty=l2, C=100.0, score=0.751571 -   7.8s[CV] ..................... penalty=l1, C=10.0, score=0.751574 -  25.5s\n",
      "\n",
      "\n",
      "[CV] penalty=l2, C=100.0 .............................................\n",
      "[CV] penalty=l1, C=1000.0 ............................................\n",
      "[CV] penalty=l2, C=10.0 ..............................................\n",
      "[CV] .................... penalty=l2, C=100.0, score=0.756162 -   7.8s[CV] ................... penalty=l1, C=1000.0, score=0.749778 -  24.8s[CV] ..................... penalty=l2, C=10.0, score=0.751571 -   8.1s\n",
      "\n",
      "\n",
      "[CV] penalty=l1, C=1000.0 ............................................\n",
      "[CV] penalty=l2, C=1000.0 ............................................\n",
      "[CV] penalty=l1, C=100.0 .............................................\n",
      "[CV] ................... penalty=l1, C=1000.0, score=0.753601 -  20.5s[CV] ................... penalty=l2, C=1000.0, score=0.749348 -   9.4s[CV] .................... penalty=l1, C=100.0, score=0.749777 -  20.7s\n",
      "\n",
      "\n",
      "[CV] penalty=l1, C=1000.0 ............................................\n",
      "[CV] penalty=l2, C=1000.0 ............................................\n",
      "[CV] penalty=l1, C=100.0 .............................................\n",
      "[CV] ................... penalty=l1, C=1000.0, score=0.751573 -  19.7s[CV] ................... penalty=l2, C=1000.0, score=0.753595 -   6.6s[CV] .................... penalty=l1, C=100.0, score=0.751574 -  16.5s\n",
      "\n",
      "\n",
      "[CV] penalty=l2, C=1000.0 ............................................\n",
      "[CV] penalty=l2, C=1000.0 ............................................\n",
      "[CV] penalty=l2, C=100.0 .............................................\n",
      "[CV] ................... penalty=l2, C=1000.0, score=0.749778 -   7.1s"
     ]
    },
    {
     "data": {
      "text/plain": [
       "GridSearchCV(cv=sklearn.cross_validation.KFold(n=97230, n_folds=5, shuffle=True, random_state=42),\n",
       "       error_score='raise',\n",
       "       estimator=LogisticRegression(C=1.0, class_weight=None, dual=False, fit_intercept=True,\n",
       "          intercept_scaling=1, max_iter=100, multi_class='ovr', n_jobs=1,\n",
       "          penalty='l2', random_state=None, solver='liblinear', tol=0.0001,\n",
       "          verbose=0, warm_start=False),\n",
       "       fit_params={}, iid=True, n_jobs=3,\n",
       "       param_grid={'penalty': ('l1', 'l2'), 'C': array([  1.00000e-05,   1.00000e-04,   1.00000e-03,   1.00000e-02,\n",
       "         1.00000e-01,   1.00000e+00,   1.00000e+01,   1.00000e+02,\n",
       "         1.00000e+03,   1.00000e+04,   1.00000e+05])},\n",
       "       pre_dispatch='2*n_jobs', refit=True, scoring='roc_auc', verbose=8)"
      ]
     },
     "execution_count": 34,
     "metadata": {},
     "output_type": "execute_result"
    },
    {
     "name": "stdout",
     "output_type": "stream",
     "text": [
      "[CV] ................... penalty=l2, C=1000.0, score=0.751571 -   7.1s[CV] .................... penalty=l2, C=100.0, score=0.749778 -   6.3s\n",
      "\n",
      "\n",
      "[CV] penalty=l1, C=10000.0 ...........................................\n",
      "[CV] penalty=l1, C=10000.0 ...........................................\n",
      "[CV] penalty=l1, C=1000.0 ............................................\n",
      "[CV] .................. penalty=l1, C=10000.0, score=0.749347 -  18.7s[CV] .................. penalty=l1, C=10000.0, score=0.749779 -  20.5s[CV] ................... penalty=l1, C=1000.0, score=0.749347 -  18.9s\n",
      "\n",
      "\n",
      "[CV] penalty=l1, C=10000.0 ...........................................\n",
      "[CV] penalty=l2, C=10000.0 ...........................................\n",
      "[CV] penalty=l1, C=1000.0 ............................................\n",
      "[CV] .................. penalty=l1, C=10000.0, score=0.756164 -  22.0s[CV] .................. penalty=l2, C=10000.0, score=0.749348 -   8.8s[CV] ................... penalty=l1, C=1000.0, score=0.756164 -  23.6s\n",
      "\n",
      "\n",
      "[CV] penalty=l2, C=10000.0 ...........................................\n",
      "[CV] penalty=l2, C=10000.0 ...........................................\n",
      "[CV] penalty=l2, C=1000.0 ............................................\n",
      "[CV] .................. penalty=l2, C=10000.0, score=0.756162 -   7.7s[CV] .................. penalty=l2, C=10000.0, score=0.753595 -   7.7s[CV] ................... penalty=l2, C=1000.0, score=0.756162 -   7.5s\n",
      "\n",
      "\n",
      "[CV] penalty=l1, C=100000.0 ..........................................\n",
      "[CV] penalty=l2, C=10000.0 ...........................................\n",
      "[CV] penalty=l1, C=10000.0 ...........................................\n",
      "[CV] ................. penalty=l1, C=100000.0, score=0.753601 -  27.4s[CV] .................. penalty=l2, C=10000.0, score=0.749778 -   7.0s[CV] .................. penalty=l1, C=10000.0, score=0.753600 -  23.1s\n",
      "\n",
      "\n",
      "[CV] penalty=l2, C=100000.0 ..........................................\n",
      "[CV] penalty=l1, C=100000.0 ..........................................\n",
      "[CV] penalty=l1, C=10000.0 ...........................................\n",
      "[CV] ................. penalty=l2, C=100000.0, score=0.749348 -  10.8s[CV] ................. penalty=l1, C=100000.0, score=0.749346 -  23.8s[CV] .................. penalty=l1, C=10000.0, score=0.751572 -  21.4s\n",
      "\n",
      "\n",
      "[CV] penalty=l2, C=100000.0 ..........................................\n",
      "[CV] penalty=l1, C=100000.0 ..........................................\n",
      "[CV] penalty=l2, C=10000.0 ...........................................\n",
      "[CV] ................. penalty=l2, C=100000.0, score=0.753595 -   8.6s[CV] ................. penalty=l1, C=100000.0, score=0.751572 -  16.6s[CV] .................. penalty=l2, C=10000.0, score=0.751571 -   6.6s\n",
      "\n",
      "\n",
      "[CV] penalty=l2, C=100000.0 ..........................................\n",
      "[CV] penalty=l2, C=100000.0 ..........................................\n",
      "[CV] penalty=l1, C=100000.0 ..........................................\n",
      "[CV] ................. penalty=l2, C=100000.0, score=0.751571 -   5.0s[CV] ................. penalty=l2, C=100000.0, score=0.749778 -   7.6s[CV] ................. penalty=l1, C=100000.0, score=0.749777 -  18.9s\n",
      "\n",
      "\n",
      "[CV] penalty=l1, C=100000.0 ..........................................\n",
      "[CV] ................. penalty=l1, C=100000.0, score=0.756164 -  23.5s\n",
      "[CV] penalty=l2, C=100000.0 ..........................................\n",
      "[CV] ................. penalty=l2, C=100000.0, score=0.756162 -   5.6s\n"
     ]
    }
   ],
   "source": [
    "gs.fit(X_scale, y)"
   ]
  },
  {
   "cell_type": "code",
   "execution_count": 42,
   "metadata": {
    "collapsed": true
   },
   "outputs": [],
   "source": [
    "def gridScore2(gs, par1, par2):\n",
    "    res = {}\n",
    "    for a in gs.grid_scores_:\n",
    "        res[str(a.parameters[par1]) + str(\":\") + str(a.parameters[par2])] = a.mean_validation_score\n",
    "\n",
    "    res_sorted = sorted(res.items(), key=operator.itemgetter(1), reverse=True)\n",
    "    for x in res_sorted:\n",
    "            print \"parameters - \", x[0], ', MVC: ', x[1]"
   ]
  },
  {
   "cell_type": "code",
   "execution_count": 37,
   "metadata": {
    "collapsed": false
   },
   "outputs": [
    {
     "name": "stdout",
     "output_type": "stream",
     "text": [
      "parameters -  l1:0.1 , MVC:  0.752137533835\n",
      "parameters -  l2:0.01 , MVC:  0.752129368151\n",
      "parameters -  l1:1.0 , MVC:  0.752096639091\n",
      "parameters -  l2:0.1 , MVC:  0.752096532303\n",
      "parameters -  l1:10000.0 , MVC:  0.752092606693\n",
      "parameters -  l1:10.0 , MVC:  0.752092515609\n",
      "parameters -  l1:1000.0 , MVC:  0.752092500826\n",
      "parameters -  l1:100.0 , MVC:  0.752092494492\n",
      "parameters -  l1:100000.0 , MVC:  0.752092012482\n",
      "parameters -  l2:1.0 , MVC:  0.752091470321\n",
      "parameters -  l2:10.0 , MVC:  0.752090721452\n",
      "parameters -  l2:100.0 , MVC:  0.752090710892\n",
      "parameters -  l2:1000.0 , MVC:  0.752090700309\n",
      "parameters -  l2:10000.0 , MVC:  0.752090695012\n",
      "parameters -  l2:100000.0 , MVC:  0.752090695012\n",
      "parameters -  l2:0.001 , MVC:  0.751795603984\n",
      "parameters -  l1:0.01 , MVC:  0.751633088156\n",
      "parameters -  l2:0.0001 , MVC:  0.743020815783\n",
      "parameters -  l1:0.001 , MVC:  0.725082680993\n",
      "parameters -  l2:1e-05 , MVC:  0.713362013007\n",
      "parameters -  l1:0.0001 , MVC:  0.5\n",
      "parameters -  l1:1e-05 , MVC:  0.5\n"
     ]
    }
   ],
   "source": [
    "gridScore2(gs, 'penalty', 'C')"
   ]
  },
  {
   "cell_type": "code",
   "execution_count": 38,
   "metadata": {
    "collapsed": true
   },
   "outputs": [],
   "source": [
    "gridSVM = {'C': np.power(10.0, np.arange(-5, 6))}"
   ]
  },
  {
   "cell_type": "code",
   "execution_count": 39,
   "metadata": {
    "collapsed": true
   },
   "outputs": [],
   "source": [
    "svc = LinearSVC()"
   ]
  },
  {
   "cell_type": "code",
   "execution_count": 40,
   "metadata": {
    "collapsed": true
   },
   "outputs": [],
   "source": [
    "gs = GridSearchCV(svc, gridSVM, scoring='roc_auc', cv=kf, verbose=8, n_jobs=3)"
   ]
  },
  {
   "cell_type": "code",
   "execution_count": 41,
   "metadata": {
    "collapsed": false
   },
   "outputs": [
    {
     "name": "stdout",
     "output_type": "stream",
     "text": [
      "Fitting 5 folds for each of 11 candidates, totalling 55 fits\n"
     ]
    },
    {
     "name": "stderr",
     "output_type": "stream",
     "text": [
      "[Parallel(n_jobs=3)]: Done  12 tasks      | elapsed:   11.9s\n",
      "[Parallel(n_jobs=3)]: Done  35 tasks      | elapsed: 11.5min\n",
      "[Parallel(n_jobs=3)]: Done  55 out of  55 | elapsed: 23.1min finished\n"
     ]
    },
    {
     "name": "stdout",
     "output_type": "stream",
     "text": [
      "[CV] C=1e-05 .........................................................\n",
      "[CV] C=1e-05 .........................................................\n",
      "[CV] C=1e-05 .........................................................\n",
      "[CV] ................................ C=1e-05, score=0.739169 -   1.7s[CV] ................................ C=1e-05, score=0.741416 -   2.0s[CV] ................................ C=1e-05, score=0.740410 -   2.0s\n",
      "\n",
      "\n",
      "[CV] C=1e-05 .........................................................\n",
      "[CV] C=1e-05 .........................................................\n",
      "[CV] C=0.0001 ........................................................\n",
      "[CV] ................................ C=1e-05, score=0.745182 -   1.8s[CV] ................................ C=1e-05, score=0.743085 -   1.8s[CV] ............................... C=0.0001, score=0.748848 -   1.8s\n",
      "\n",
      "\n",
      "[CV] C=0.0001 ........................................................\n",
      "[CV] C=0.0001 ........................................................\n",
      "[CV] C=0.0001 ........................................................\n",
      "[CV] ............................... C=0.0001, score=0.752782 -   1.7s[CV] ............................... C=0.0001, score=0.749563 -   1.9s[CV] ............................... C=0.0001, score=0.755864 -   1.7s\n",
      "\n",
      "\n",
      "[CV] C=0.0001 ........................................................\n",
      "[CV] C=0.001 .........................................................\n",
      "[CV] C=0.001 .........................................................\n",
      "[CV] ............................... C=0.0001, score=0.751622 -   1.6s[CV] ................................ C=0.001, score=0.753627 -   5.3s[CV] ................................ C=0.001, score=0.749285 -   6.3s\n",
      "\n",
      "\n",
      "[CV] C=0.001 .........................................................\n",
      "[CV] C=0.001 .........................................................\n",
      "[CV] C=0.001 .........................................................\n",
      "[CV] ................................ C=0.001, score=0.749758 -   6.0s[CV] ................................ C=0.001, score=0.756208 -   4.4s[CV] ................................ C=0.001, score=0.751613 -   5.9s\n",
      "\n",
      "\n",
      "[CV] C=0.01 ..........................................................\n",
      "[CV] C=0.01 ..........................................................\n",
      "[CV] C=0.01 ..........................................................\n",
      "[CV] ................................. C=0.01, score=0.749284 -  51.3s[CV] ................................. C=0.01, score=0.753637 -  46.4s[CV] ................................. C=0.01, score=0.749717 -  49.0s\n",
      "\n",
      "\n",
      "[CV] C=0.01 ..........................................................\n",
      "[CV] C=0.01 ..........................................................\n",
      "[CV] C=0.1 ...........................................................\n",
      "[CV] ................................. C=0.01, score=0.751532 -  50.0s[CV] ................................. C=0.01, score=0.756141 -  28.9s[CV] .................................. C=0.1, score=0.749288 - 1.8min\n",
      "\n",
      "\n",
      "[CV] C=0.1 ...........................................................\n",
      "[CV] C=0.1 ...........................................................\n",
      "[CV] C=0.1 ...........................................................\n",
      "[CV] .................................. C=0.1, score=0.749714 - 1.9min[CV] .................................. C=0.1, score=0.753632 - 1.8min[CV] .................................. C=0.1, score=0.756127 - 1.9min\n",
      "\n",
      "\n",
      "[CV] C=1.0 ...........................................................\n",
      "[CV] C=0.1 ...........................................................\n",
      "[CV] C=1.0 ...........................................................\n",
      "[CV] .................................. C=1.0, score=0.745321 - 1.9min[CV] .................................. C=0.1, score=0.751518 - 1.7min[CV] .................................. C=1.0, score=0.749955 - 1.8min\n",
      "\n",
      "\n",
      "[CV] C=1.0 ...........................................................\n",
      "[CV] C=1.0 ...........................................................\n",
      "[CV] C=1.0 ...........................................................\n",
      "[CV] .................................. C=1.0, score=0.752330 - 2.0min[CV] .................................. C=1.0, score=0.746138 - 1.8min[CV] .................................. C=1.0, score=0.747674 - 1.8min\n",
      "\n",
      "\n",
      "[CV] C=10.0 ..........................................................\n",
      "[CV] C=10.0 ..........................................................\n",
      "[CV] C=10.0 ..........................................................\n",
      "[CV] ................................. C=10.0, score=0.622024 - 1.9min[CV] ................................. C=10.0, score=0.653743 - 1.8min[CV] ................................. C=10.0, score=0.632403 - 1.8min\n",
      "\n",
      "\n",
      "[CV] C=10.0 ..........................................................\n",
      "[CV] C=10.0 ..........................................................\n",
      "[CV] C=100.0 .........................................................\n",
      "[CV] ................................. C=10.0, score=0.647120 - 1.8min[CV] ................................. C=10.0, score=0.646681 - 1.9min[CV] ................................ C=100.0, score=0.642574 - 1.9min\n",
      "\n",
      "\n",
      "[CV] C=100.0 .........................................................\n",
      "[CV] C=100.0 .........................................................\n",
      "[CV] C=100.0 .........................................................\n",
      "[CV] ................................ C=100.0, score=0.621422 - 2.0min[CV] ................................ C=100.0, score=0.611837 - 1.8min[CV] ................................ C=100.0, score=0.623246 - 1.8min\n",
      "\n",
      "\n",
      "[CV] C=1000.0 ........................................................\n",
      "[CV] C=100.0 .........................................................\n",
      "[CV] C=1000.0 ........................................................\n",
      "[CV] ............................... C=1000.0, score=0.616374 - 1.8min[CV] ................................ C=100.0, score=0.627767 - 1.9min[CV] ............................... C=1000.0, score=0.564337 - 1.9min\n",
      "\n",
      "\n",
      "[CV] C=1000.0 ........................................................\n",
      "[CV] C=1000.0 ........................................................\n",
      "[CV] C=1000.0 ........................................................\n",
      "[CV] ............................... C=1000.0, score=0.600234 - 1.9min[CV] ............................... C=1000.0, score=0.611133 - 1.9min[CV] ............................... C=1000.0, score=0.574446 - 1.8min\n",
      "\n",
      "\n",
      "[CV] C=10000.0 .......................................................\n",
      "[CV] C=10000.0 .......................................................\n",
      "[CV] C=10000.0 .......................................................\n",
      "[CV] .............................. C=10000.0, score=0.630742 - 1.9min[CV] .............................. C=10000.0, score=0.588382 - 1.8min[CV] .............................. C=10000.0, score=0.601826 - 1.8min\n",
      "\n",
      "\n",
      "[CV] C=10000.0 .......................................................\n",
      "[CV] C=10000.0 .......................................................\n",
      "[CV] C=100000.0 ......................................................\n",
      "[CV] .............................. C=10000.0, score=0.572477 - 2.0min[CV] .............................. C=10000.0, score=0.630780 - 1.7min[CV] ............................. C=100000.0, score=0.495433 - 1.9min\n",
      "\n",
      "\n",
      "[CV] C=100000.0 ......................................................\n",
      "[CV] C=100000.0 ......................................................\n",
      "[CV] C=100000.0 ......................................................\n",
      "[CV] ............................. C=100000.0, score=0.640243 - 1.9min[CV] ............................. C=100000.0, score=0.611642 - 1.6min[CV] ............................. C=100000.0, score=0.657338 - 1.8min\n",
      "\n",
      "\n",
      "[CV] C=100000.0 ......................................................\n",
      "[CV] ............................. C=100000.0, score=0.616608 - 1.7min\n"
     ]
    },
    {
     "data": {
      "text/plain": [
       "GridSearchCV(cv=sklearn.cross_validation.KFold(n=97230, n_folds=5, shuffle=True, random_state=42),\n",
       "       error_score='raise',\n",
       "       estimator=LinearSVC(C=1.0, class_weight=None, dual=True, fit_intercept=True,\n",
       "     intercept_scaling=1, loss='squared_hinge', max_iter=1000,\n",
       "     multi_class='ovr', penalty='l2', random_state=None, tol=0.0001,\n",
       "     verbose=0),\n",
       "       fit_params={}, iid=True, n_jobs=3,\n",
       "       param_grid={'C': array([  1.00000e-05,   1.00000e-04,   1.00000e-03,   1.00000e-02,\n",
       "         1.00000e-01,   1.00000e+00,   1.00000e+01,   1.00000e+02,\n",
       "         1.00000e+03,   1.00000e+04,   1.00000e+05])},\n",
       "       pre_dispatch='2*n_jobs', refit=True, scoring='roc_auc', verbose=8)"
      ]
     },
     "execution_count": 41,
     "metadata": {},
     "output_type": "execute_result"
    }
   ],
   "source": [
    "gs.fit(X_scale, y)"
   ]
  },
  {
   "cell_type": "code",
   "execution_count": 18,
   "metadata": {
    "collapsed": false
   },
   "outputs": [],
   "source": [
    "def gridScore1(gs, par1):\n",
    "    res = {}\n",
    "    for a in gs.grid_scores_:\n",
    "        res[str(a.parameters[par1])] = a.mean_validation_score\n",
    "        \n",
    "    res_sorted = sorted(res.items(), key=operator.itemgetter(1), reverse=True)\n",
    "    for x in res_sorted:\n",
    "            print \"parameter - \", x[0], ', MVC: ', x[1]"
   ]
  },
  {
   "cell_type": "code",
   "execution_count": 47,
   "metadata": {
    "collapsed": false
   },
   "outputs": [
    {
     "name": "stdout",
     "output_type": "stream",
     "text": [
      "parameter -  0.001 , MVC:  0.752098112662\n",
      "parameter -  0.01 , MVC:  0.7520622093\n",
      "parameter -  0.1 , MVC:  0.752055735624\n",
      "parameter -  0.0001 , MVC:  0.75173579028\n",
      "parameter -  1.0 , MVC:  0.748283322873\n",
      "parameter -  1e-05 , MVC:  0.741852549586\n",
      "parameter -  10.0 , MVC:  0.640394309524\n",
      "parameter -  100.0 , MVC:  0.625369205022\n",
      "parameter -  10000.0 , MVC:  0.604841347115\n",
      "parameter -  100000.0 , MVC:  0.60425280191\n",
      "parameter -  1000.0 , MVC:  0.593304559932\n"
     ]
    }
   ],
   "source": [
    "gridScore1(gs, 'C')"
   ]
  },
  {
   "cell_type": "markdown",
   "metadata": {
    "collapsed": true
   },
   "source": [
    "# Try the best"
   ]
  },
  {
   "cell_type": "code",
   "execution_count": 48,
   "metadata": {
    "collapsed": true
   },
   "outputs": [],
   "source": [
    "lr = LogisticRegression(penalty='l1', C=0.1)"
   ]
  },
  {
   "cell_type": "code",
   "execution_count": 49,
   "metadata": {
    "collapsed": false
   },
   "outputs": [
    {
     "data": {
      "text/plain": [
       "LogisticRegression(C=0.1, class_weight=None, dual=False, fit_intercept=True,\n",
       "          intercept_scaling=1, max_iter=100, multi_class='ovr', n_jobs=1,\n",
       "          penalty='l1', random_state=None, solver='liblinear', tol=0.0001,\n",
       "          verbose=0, warm_start=False)"
      ]
     },
     "execution_count": 49,
     "metadata": {},
     "output_type": "execute_result"
    }
   ],
   "source": [
    "lr.fit(X_scale, y)"
   ]
  },
  {
   "cell_type": "code",
   "execution_count": 50,
   "metadata": {
    "collapsed": true
   },
   "outputs": [],
   "source": [
    "svc = LinearSVC(C=0.001)"
   ]
  },
  {
   "cell_type": "code",
   "execution_count": 51,
   "metadata": {
    "collapsed": false
   },
   "outputs": [
    {
     "data": {
      "text/plain": [
       "LinearSVC(C=0.001, class_weight=None, dual=True, fit_intercept=True,\n",
       "     intercept_scaling=1, loss='squared_hinge', max_iter=1000,\n",
       "     multi_class='ovr', penalty='l2', random_state=None, tol=0.0001,\n",
       "     verbose=0)"
      ]
     },
     "execution_count": 51,
     "metadata": {},
     "output_type": "execute_result"
    }
   ],
   "source": [
    "svc.fit(X_scale, y)"
   ]
  },
  {
   "cell_type": "markdown",
   "metadata": {},
   "source": [
    "## Test Data"
   ]
  },
  {
   "cell_type": "code",
   "execution_count": 64,
   "metadata": {
    "collapsed": false
   },
   "outputs": [],
   "source": [
    "df_test = pd.read_csv('./features_test.csv', index_col='match_id')\n",
    "df_test = fillMissingData(df_test)\n",
    "X_test = dataPick(df_test)\n",
    "X_test_scaled = scaler.transform(X_test)"
   ]
  },
  {
   "cell_type": "code",
   "execution_count": 65,
   "metadata": {
    "collapsed": true
   },
   "outputs": [],
   "source": [
    "y_pred = lr.predict_proba(X_test_scaled)"
   ]
  },
  {
   "cell_type": "code",
   "execution_count": 66,
   "metadata": {
    "collapsed": true
   },
   "outputs": [],
   "source": [
    "df_test['radiant_win'] = y_pred[:, 0]"
   ]
  },
  {
   "cell_type": "code",
   "execution_count": 67,
   "metadata": {
    "collapsed": true
   },
   "outputs": [],
   "source": [
    "df_to_write = df_test['radiant_win']\n",
    "df_to_write.to_csv('results_logical.csv', sep=',', encoding='utf-8', header=True)"
   ]
  },
  {
   "cell_type": "code",
   "execution_count": 68,
   "metadata": {
    "collapsed": false
   },
   "outputs": [],
   "source": [
    "#y_pred = svc.predict_proba(X_test)\n",
    "prob_pos = svc.decision_function(X_test_scaled)\n",
    "prob_pos = \\\n",
    "    (prob_pos - prob_pos.min()) / (prob_pos.max() - prob_pos.min())"
   ]
  },
  {
   "cell_type": "code",
   "execution_count": 69,
   "metadata": {
    "collapsed": false
   },
   "outputs": [
    {
     "data": {
      "text/plain": [
       "array([ 0.61676201,  0.5657714 ,  0.33040907, ...,  0.35864969,\n",
       "        0.5220851 ,  0.43877303])"
      ]
     },
     "execution_count": 69,
     "metadata": {},
     "output_type": "execute_result"
    }
   ],
   "source": [
    "df_test['radiant_win'] = prob_pos[:]\n",
    "df_to_write = df_test['radiant_win']\n",
    "df_to_write.to_csv('results_svc.csv', sep=',', encoding='utf-8', header=True)"
   ]
  },
  {
   "cell_type": "markdown",
   "metadata": {},
   "source": [
    "### Result - svm better"
   ]
  },
  {
   "cell_type": "markdown",
   "metadata": {},
   "source": [
    "# KNN"
   ]
  },
  {
   "cell_type": "code",
   "execution_count": 98,
   "metadata": {
    "collapsed": true
   },
   "outputs": [],
   "source": [
    "gridKNN = {'n_neighbors': np.power(2.0, np.arange(1, 6))}\n",
    "clfKNN = KNeighborsClassifier()"
   ]
  },
  {
   "cell_type": "code",
   "execution_count": 99,
   "metadata": {
    "collapsed": true
   },
   "outputs": [],
   "source": [
    "kf = KFold(X.shape[0], n_folds=5, shuffle=True, random_state=42)\n",
    "gs = GridSearchCV(clfKNN, gridKNN, scoring='roc_auc', cv=kf, verbose=8, n_jobs=3)"
   ]
  },
  {
   "cell_type": "code",
   "execution_count": 100,
   "metadata": {
    "collapsed": false,
    "scrolled": true
   },
   "outputs": [
    {
     "name": "stdout",
     "output_type": "stream",
     "text": [
      "Fitting 5 folds for each of 5 candidates, totalling 25 fits\n"
     ]
    },
    {
     "name": "stderr",
     "output_type": "stream",
     "text": [
      "[Parallel(n_jobs=3)]: Done  12 tasks      | elapsed: 71.3min\n",
      "[Parallel(n_jobs=3)]: Done  25 out of  25 | elapsed: 153.9min finished\n",
      "/home/scitator/.conda/envs/python2/lib/python2.7/site-packages/sklearn/externals/joblib/parallel.py:72: DeprecationWarning: using a non-integer number instead of an integer will result in an error in the future\n",
      "  return [func(*args, **kwargs) for func, args, kwargs in self.items]\n",
      "/home/scitator/.conda/envs/python2/lib/python2.7/site-packages/sklearn/externals/joblib/parallel.py:72: DeprecationWarning: using a non-integer number instead of an integer will result in an error in the future\n",
      "  return [func(*args, **kwargs) for func, args, kwargs in self.items]\n",
      "/home/scitator/.conda/envs/python2/lib/python2.7/site-packages/sklearn/externals/joblib/parallel.py:72: DeprecationWarning: using a non-integer number instead of an integer will result in an error in the future\n",
      "  return [func(*args, **kwargs) for func, args, kwargs in self.items]\n",
      "/home/scitator/.conda/envs/python2/lib/python2.7/site-packages/sklearn/externals/joblib/parallel.py:72: DeprecationWarning: using a non-integer number instead of an integer will result in an error in the future\n",
      "  return [func(*args, **kwargs) for func, args, kwargs in self.items]\n",
      "/home/scitator/.conda/envs/python2/lib/python2.7/site-packages/sklearn/externals/joblib/parallel.py:72: DeprecationWarning: using a non-integer number instead of an integer will result in an error in the future\n",
      "  return [func(*args, **kwargs) for func, args, kwargs in self.items]\n",
      "/home/scitator/.conda/envs/python2/lib/python2.7/site-packages/sklearn/externals/joblib/parallel.py:72: DeprecationWarning: using a non-integer number instead of an integer will result in an error in the future\n",
      "  return [func(*args, **kwargs) for func, args, kwargs in self.items]\n",
      "/home/scitator/.conda/envs/python2/lib/python2.7/site-packages/sklearn/externals/joblib/parallel.py:72: DeprecationWarning: using a non-integer number instead of an integer will result in an error in the future\n",
      "  return [func(*args, **kwargs) for func, args, kwargs in self.items]\n",
      "/home/scitator/.conda/envs/python2/lib/python2.7/site-packages/sklearn/externals/joblib/parallel.py:72: DeprecationWarning: using a non-integer number instead of an integer will result in an error in the future\n",
      "  return [func(*args, **kwargs) for func, args, kwargs in self.items]\n",
      "/home/scitator/.conda/envs/python2/lib/python2.7/site-packages/sklearn/externals/joblib/parallel.py:72: DeprecationWarning: using a non-integer number instead of an integer will result in an error in the future\n",
      "  return [func(*args, **kwargs) for func, args, kwargs in self.items]\n",
      "/home/scitator/.conda/envs/python2/lib/python2.7/site-packages/sklearn/externals/joblib/parallel.py:72: DeprecationWarning: using a non-integer number instead of an integer will result in an error in the future\n",
      "  return [func(*args, **kwargs) for func, args, kwargs in self.items]\n",
      "/home/scitator/.conda/envs/python2/lib/python2.7/site-packages/sklearn/externals/joblib/parallel.py:72: DeprecationWarning: using a non-integer number instead of an integer will result in an error in the future\n",
      "  return [func(*args, **kwargs) for func, args, kwargs in self.items]\n",
      "/home/scitator/.conda/envs/python2/lib/python2.7/site-packages/sklearn/externals/joblib/parallel.py:72: DeprecationWarning: using a non-integer number instead of an integer will result in an error in the future\n",
      "  return [func(*args, **kwargs) for func, args, kwargs in self.items]\n",
      "/home/scitator/.conda/envs/python2/lib/python2.7/site-packages/sklearn/externals/joblib/parallel.py:72: DeprecationWarning: using a non-integer number instead of an integer will result in an error in the future\n",
      "  return [func(*args, **kwargs) for func, args, kwargs in self.items]\n",
      "/home/scitator/.conda/envs/python2/lib/python2.7/site-packages/sklearn/externals/joblib/parallel.py:72: DeprecationWarning: using a non-integer number instead of an integer will result in an error in the future\n",
      "  return [func(*args, **kwargs) for func, args, kwargs in self.items]\n",
      "/home/scitator/.conda/envs/python2/lib/python2.7/site-packages/sklearn/externals/joblib/parallel.py:72: DeprecationWarning: using a non-integer number instead of an integer will result in an error in the future\n",
      "  return [func(*args, **kwargs) for func, args, kwargs in self.items]\n",
      "/home/scitator/.conda/envs/python2/lib/python2.7/site-packages/sklearn/externals/joblib/parallel.py:72: DeprecationWarning: using a non-integer number instead of an integer will result in an error in the future\n",
      "  return [func(*args, **kwargs) for func, args, kwargs in self.items]\n",
      "/home/scitator/.conda/envs/python2/lib/python2.7/site-packages/sklearn/externals/joblib/parallel.py:72: DeprecationWarning: using a non-integer number instead of an integer will result in an error in the future\n",
      "  return [func(*args, **kwargs) for func, args, kwargs in self.items]\n",
      "/home/scitator/.conda/envs/python2/lib/python2.7/site-packages/sklearn/externals/joblib/parallel.py:72: DeprecationWarning: using a non-integer number instead of an integer will result in an error in the future\n",
      "  return [func(*args, **kwargs) for func, args, kwargs in self.items]\n",
      "/home/scitator/.conda/envs/python2/lib/python2.7/site-packages/sklearn/externals/joblib/parallel.py:72: DeprecationWarning: using a non-integer number instead of an integer will result in an error in the future\n",
      "  return [func(*args, **kwargs) for func, args, kwargs in self.items]\n",
      "/home/scitator/.conda/envs/python2/lib/python2.7/site-packages/sklearn/externals/joblib/parallel.py:72: DeprecationWarning: using a non-integer number instead of an integer will result in an error in the future\n",
      "  return [func(*args, **kwargs) for func, args, kwargs in self.items]\n",
      "/home/scitator/.conda/envs/python2/lib/python2.7/site-packages/sklearn/externals/joblib/parallel.py:72: DeprecationWarning: using a non-integer number instead of an integer will result in an error in the future\n",
      "  return [func(*args, **kwargs) for func, args, kwargs in self.items]\n",
      "/home/scitator/.conda/envs/python2/lib/python2.7/site-packages/sklearn/externals/joblib/parallel.py:72: DeprecationWarning: using a non-integer number instead of an integer will result in an error in the future\n",
      "  return [func(*args, **kwargs) for func, args, kwargs in self.items]\n",
      "/home/scitator/.conda/envs/python2/lib/python2.7/site-packages/sklearn/externals/joblib/parallel.py:72: DeprecationWarning: using a non-integer number instead of an integer will result in an error in the future\n",
      "  return [func(*args, **kwargs) for func, args, kwargs in self.items]\n",
      "/home/scitator/.conda/envs/python2/lib/python2.7/site-packages/sklearn/externals/joblib/parallel.py:72: DeprecationWarning: using a non-integer number instead of an integer will result in an error in the future\n",
      "  return [func(*args, **kwargs) for func, args, kwargs in self.items]\n",
      "/home/scitator/.conda/envs/python2/lib/python2.7/site-packages/sklearn/externals/joblib/parallel.py:72: DeprecationWarning: using a non-integer number instead of an integer will result in an error in the future\n",
      "  return [func(*args, **kwargs) for func, args, kwargs in self.items]\n",
      "/home/scitator/.conda/envs/python2/lib/python2.7/site-packages/sklearn/externals/joblib/parallel.py:72: DeprecationWarning: using a non-integer number instead of an integer will result in an error in the future\n",
      "  return [func(*args, **kwargs) for func, args, kwargs in self.items]\n",
      "/home/scitator/.conda/envs/python2/lib/python2.7/site-packages/sklearn/externals/joblib/parallel.py:72: DeprecationWarning: using a non-integer number instead of an integer will result in an error in the future\n",
      "  return [func(*args, **kwargs) for func, args, kwargs in self.items]\n",
      "/home/scitator/.conda/envs/python2/lib/python2.7/site-packages/sklearn/externals/joblib/parallel.py:72: DeprecationWarning: using a non-integer number instead of an integer will result in an error in the future\n",
      "  return [func(*args, **kwargs) for func, args, kwargs in self.items]\n",
      "/home/scitator/.conda/envs/python2/lib/python2.7/site-packages/sklearn/externals/joblib/parallel.py:72: DeprecationWarning: using a non-integer number instead of an integer will result in an error in the future\n",
      "  return [func(*args, **kwargs) for func, args, kwargs in self.items]\n",
      "/home/scitator/.conda/envs/python2/lib/python2.7/site-packages/sklearn/externals/joblib/parallel.py:72: DeprecationWarning: using a non-integer number instead of an integer will result in an error in the future\n",
      "  return [func(*args, **kwargs) for func, args, kwargs in self.items]\n",
      "/home/scitator/.conda/envs/python2/lib/python2.7/site-packages/sklearn/externals/joblib/parallel.py:72: DeprecationWarning: using a non-integer number instead of an integer will result in an error in the future\n",
      "  return [func(*args, **kwargs) for func, args, kwargs in self.items]\n",
      "/home/scitator/.conda/envs/python2/lib/python2.7/site-packages/sklearn/externals/joblib/parallel.py:72: DeprecationWarning: using a non-integer number instead of an integer will result in an error in the future\n",
      "  return [func(*args, **kwargs) for func, args, kwargs in self.items]\n",
      "/home/scitator/.conda/envs/python2/lib/python2.7/site-packages/sklearn/externals/joblib/parallel.py:72: DeprecationWarning: using a non-integer number instead of an integer will result in an error in the future\n",
      "  return [func(*args, **kwargs) for func, args, kwargs in self.items]\n",
      "/home/scitator/.conda/envs/python2/lib/python2.7/site-packages/sklearn/externals/joblib/parallel.py:72: DeprecationWarning: using a non-integer number instead of an integer will result in an error in the future\n",
      "  return [func(*args, **kwargs) for func, args, kwargs in self.items]\n",
      "/home/scitator/.conda/envs/python2/lib/python2.7/site-packages/sklearn/externals/joblib/parallel.py:72: DeprecationWarning: using a non-integer number instead of an integer will result in an error in the future\n",
      "  return [func(*args, **kwargs) for func, args, kwargs in self.items]\n",
      "/home/scitator/.conda/envs/python2/lib/python2.7/site-packages/sklearn/externals/joblib/parallel.py:72: DeprecationWarning: using a non-integer number instead of an integer will result in an error in the future\n",
      "  return [func(*args, **kwargs) for func, args, kwargs in self.items]\n",
      "/home/scitator/.conda/envs/python2/lib/python2.7/site-packages/sklearn/externals/joblib/parallel.py:72: DeprecationWarning: using a non-integer number instead of an integer will result in an error in the future\n",
      "  return [func(*args, **kwargs) for func, args, kwargs in self.items]\n",
      "/home/scitator/.conda/envs/python2/lib/python2.7/site-packages/sklearn/externals/joblib/parallel.py:72: DeprecationWarning: using a non-integer number instead of an integer will result in an error in the future\n",
      "  return [func(*args, **kwargs) for func, args, kwargs in self.items]\n",
      "/home/scitator/.conda/envs/python2/lib/python2.7/site-packages/sklearn/externals/joblib/parallel.py:72: DeprecationWarning: using a non-integer number instead of an integer will result in an error in the future\n",
      "  return [func(*args, **kwargs) for func, args, kwargs in self.items]\n",
      "/home/scitator/.conda/envs/python2/lib/python2.7/site-packages/sklearn/externals/joblib/parallel.py:72: DeprecationWarning: using a non-integer number instead of an integer will result in an error in the future\n",
      "  return [func(*args, **kwargs) for func, args, kwargs in self.items]\n",
      "/home/scitator/.conda/envs/python2/lib/python2.7/site-packages/sklearn/externals/joblib/parallel.py:72: DeprecationWarning: using a non-integer number instead of an integer will result in an error in the future\n",
      "  return [func(*args, **kwargs) for func, args, kwargs in self.items]\n",
      "/home/scitator/.conda/envs/python2/lib/python2.7/site-packages/sklearn/externals/joblib/parallel.py:72: DeprecationWarning: using a non-integer number instead of an integer will result in an error in the future\n",
      "  return [func(*args, **kwargs) for func, args, kwargs in self.items]\n",
      "/home/scitator/.conda/envs/python2/lib/python2.7/site-packages/sklearn/externals/joblib/parallel.py:72: DeprecationWarning: using a non-integer number instead of an integer will result in an error in the future\n",
      "  return [func(*args, **kwargs) for func, args, kwargs in self.items]\n",
      "/home/scitator/.conda/envs/python2/lib/python2.7/site-packages/sklearn/externals/joblib/parallel.py:72: DeprecationWarning: using a non-integer number instead of an integer will result in an error in the future\n",
      "  return [func(*args, **kwargs) for func, args, kwargs in self.items]\n",
      "/home/scitator/.conda/envs/python2/lib/python2.7/site-packages/sklearn/externals/joblib/parallel.py:72: DeprecationWarning: using a non-integer number instead of an integer will result in an error in the future\n",
      "  return [func(*args, **kwargs) for func, args, kwargs in self.items]\n",
      "/home/scitator/.conda/envs/python2/lib/python2.7/site-packages/sklearn/externals/joblib/parallel.py:72: DeprecationWarning: using a non-integer number instead of an integer will result in an error in the future\n",
      "  return [func(*args, **kwargs) for func, args, kwargs in self.items]\n",
      "/home/scitator/.conda/envs/python2/lib/python2.7/site-packages/sklearn/externals/joblib/parallel.py:72: DeprecationWarning: using a non-integer number instead of an integer will result in an error in the future\n",
      "  return [func(*args, **kwargs) for func, args, kwargs in self.items]\n",
      "/home/scitator/.conda/envs/python2/lib/python2.7/site-packages/sklearn/externals/joblib/parallel.py:72: DeprecationWarning: using a non-integer number instead of an integer will result in an error in the future\n",
      "  return [func(*args, **kwargs) for func, args, kwargs in self.items]\n",
      "/home/scitator/.conda/envs/python2/lib/python2.7/site-packages/sklearn/externals/joblib/parallel.py:72: DeprecationWarning: using a non-integer number instead of an integer will result in an error in the future\n",
      "  return [func(*args, **kwargs) for func, args, kwargs in self.items]\n",
      "/home/scitator/.conda/envs/python2/lib/python2.7/site-packages/sklearn/externals/joblib/parallel.py:72: DeprecationWarning: using a non-integer number instead of an integer will result in an error in the future\n",
      "  return [func(*args, **kwargs) for func, args, kwargs in self.items]\n",
      "/home/scitator/.conda/envs/python2/lib/python2.7/site-packages/sklearn/externals/joblib/parallel.py:72: DeprecationWarning: using a non-integer number instead of an integer will result in an error in the future\n",
      "  return [func(*args, **kwargs) for func, args, kwargs in self.items]\n",
      "/home/scitator/.conda/envs/python2/lib/python2.7/site-packages/sklearn/externals/joblib/parallel.py:72: DeprecationWarning: using a non-integer number instead of an integer will result in an error in the future\n",
      "  return [func(*args, **kwargs) for func, args, kwargs in self.items]\n",
      "/home/scitator/.conda/envs/python2/lib/python2.7/site-packages/sklearn/externals/joblib/parallel.py:72: DeprecationWarning: using a non-integer number instead of an integer will result in an error in the future\n",
      "  return [func(*args, **kwargs) for func, args, kwargs in self.items]\n",
      "/home/scitator/.conda/envs/python2/lib/python2.7/site-packages/sklearn/externals/joblib/parallel.py:72: DeprecationWarning: using a non-integer number instead of an integer will result in an error in the future\n",
      "  return [func(*args, **kwargs) for func, args, kwargs in self.items]\n",
      "/home/scitator/.conda/envs/python2/lib/python2.7/site-packages/sklearn/externals/joblib/parallel.py:72: DeprecationWarning: using a non-integer number instead of an integer will result in an error in the future\n",
      "  return [func(*args, **kwargs) for func, args, kwargs in self.items]\n",
      "/home/scitator/.conda/envs/python2/lib/python2.7/site-packages/sklearn/externals/joblib/parallel.py:72: DeprecationWarning: using a non-integer number instead of an integer will result in an error in the future\n",
      "  return [func(*args, **kwargs) for func, args, kwargs in self.items]\n",
      "/home/scitator/.conda/envs/python2/lib/python2.7/site-packages/sklearn/externals/joblib/parallel.py:72: DeprecationWarning: using a non-integer number instead of an integer will result in an error in the future\n",
      "  return [func(*args, **kwargs) for func, args, kwargs in self.items]\n",
      "/home/scitator/.conda/envs/python2/lib/python2.7/site-packages/sklearn/externals/joblib/parallel.py:72: DeprecationWarning: using a non-integer number instead of an integer will result in an error in the future\n",
      "  return [func(*args, **kwargs) for func, args, kwargs in self.items]\n",
      "/home/scitator/.conda/envs/python2/lib/python2.7/site-packages/sklearn/externals/joblib/parallel.py:72: DeprecationWarning: using a non-integer number instead of an integer will result in an error in the future\n",
      "  return [func(*args, **kwargs) for func, args, kwargs in self.items]\n",
      "/home/scitator/.conda/envs/python2/lib/python2.7/site-packages/sklearn/externals/joblib/parallel.py:72: DeprecationWarning: using a non-integer number instead of an integer will result in an error in the future\n",
      "  return [func(*args, **kwargs) for func, args, kwargs in self.items]\n",
      "/home/scitator/.conda/envs/python2/lib/python2.7/site-packages/sklearn/externals/joblib/parallel.py:72: DeprecationWarning: using a non-integer number instead of an integer will result in an error in the future\n",
      "  return [func(*args, **kwargs) for func, args, kwargs in self.items]\n",
      "/home/scitator/.conda/envs/python2/lib/python2.7/site-packages/sklearn/externals/joblib/parallel.py:72: DeprecationWarning: using a non-integer number instead of an integer will result in an error in the future\n",
      "  return [func(*args, **kwargs) for func, args, kwargs in self.items]\n",
      "/home/scitator/.conda/envs/python2/lib/python2.7/site-packages/sklearn/externals/joblib/parallel.py:72: DeprecationWarning: using a non-integer number instead of an integer will result in an error in the future\n",
      "  return [func(*args, **kwargs) for func, args, kwargs in self.items]\n",
      "/home/scitator/.conda/envs/python2/lib/python2.7/site-packages/sklearn/externals/joblib/parallel.py:72: DeprecationWarning: using a non-integer number instead of an integer will result in an error in the future\n",
      "  return [func(*args, **kwargs) for func, args, kwargs in self.items]\n",
      "/home/scitator/.conda/envs/python2/lib/python2.7/site-packages/sklearn/externals/joblib/parallel.py:72: DeprecationWarning: using a non-integer number instead of an integer will result in an error in the future\n",
      "  return [func(*args, **kwargs) for func, args, kwargs in self.items]\n",
      "/home/scitator/.conda/envs/python2/lib/python2.7/site-packages/sklearn/externals/joblib/parallel.py:72: DeprecationWarning: using a non-integer number instead of an integer will result in an error in the future\n",
      "  return [func(*args, **kwargs) for func, args, kwargs in self.items]\n",
      "/home/scitator/.conda/envs/python2/lib/python2.7/site-packages/sklearn/externals/joblib/parallel.py:72: DeprecationWarning: using a non-integer number instead of an integer will result in an error in the future\n",
      "  return [func(*args, **kwargs) for func, args, kwargs in self.items]\n",
      "/home/scitator/.conda/envs/python2/lib/python2.7/site-packages/sklearn/externals/joblib/parallel.py:72: DeprecationWarning: using a non-integer number instead of an integer will result in an error in the future\n",
      "  return [func(*args, **kwargs) for func, args, kwargs in self.items]\n",
      "/home/scitator/.conda/envs/python2/lib/python2.7/site-packages/sklearn/externals/joblib/parallel.py:72: DeprecationWarning: using a non-integer number instead of an integer will result in an error in the future\n",
      "  return [func(*args, **kwargs) for func, args, kwargs in self.items]\n",
      "/home/scitator/.conda/envs/python2/lib/python2.7/site-packages/sklearn/externals/joblib/parallel.py:72: DeprecationWarning: using a non-integer number instead of an integer will result in an error in the future\n",
      "  return [func(*args, **kwargs) for func, args, kwargs in self.items]\n",
      "/home/scitator/.conda/envs/python2/lib/python2.7/site-packages/sklearn/externals/joblib/parallel.py:72: DeprecationWarning: using a non-integer number instead of an integer will result in an error in the future\n",
      "  return [func(*args, **kwargs) for func, args, kwargs in self.items]\n",
      "/home/scitator/.conda/envs/python2/lib/python2.7/site-packages/sklearn/externals/joblib/parallel.py:72: DeprecationWarning: using a non-integer number instead of an integer will result in an error in the future\n",
      "  return [func(*args, **kwargs) for func, args, kwargs in self.items]\n",
      "/home/scitator/.conda/envs/python2/lib/python2.7/site-packages/sklearn/externals/joblib/parallel.py:72: DeprecationWarning: using a non-integer number instead of an integer will result in an error in the future\n",
      "  return [func(*args, **kwargs) for func, args, kwargs in self.items]\n",
      "/home/scitator/.conda/envs/python2/lib/python2.7/site-packages/sklearn/externals/joblib/parallel.py:72: DeprecationWarning: using a non-integer number instead of an integer will result in an error in the future\n",
      "  return [func(*args, **kwargs) for func, args, kwargs in self.items]\n",
      "/home/scitator/.conda/envs/python2/lib/python2.7/site-packages/sklearn/externals/joblib/parallel.py:72: DeprecationWarning: using a non-integer number instead of an integer will result in an error in the future\n",
      "  return [func(*args, **kwargs) for func, args, kwargs in self.items]\n",
      "/home/scitator/.conda/envs/python2/lib/python2.7/site-packages/sklearn/externals/joblib/parallel.py:72: DeprecationWarning: using a non-integer number instead of an integer will result in an error in the future\n",
      "  return [func(*args, **kwargs) for func, args, kwargs in self.items]\n",
      "/home/scitator/.conda/envs/python2/lib/python2.7/site-packages/sklearn/externals/joblib/parallel.py:72: DeprecationWarning: using a non-integer number instead of an integer will result in an error in the future\n",
      "  return [func(*args, **kwargs) for func, args, kwargs in self.items]\n",
      "/home/scitator/.conda/envs/python2/lib/python2.7/site-packages/sklearn/externals/joblib/parallel.py:72: DeprecationWarning: using a non-integer number instead of an integer will result in an error in the future\n",
      "  return [func(*args, **kwargs) for func, args, kwargs in self.items]\n",
      "/home/scitator/.conda/envs/python2/lib/python2.7/site-packages/sklearn/externals/joblib/parallel.py:72: DeprecationWarning: using a non-integer number instead of an integer will result in an error in the future\n",
      "  return [func(*args, **kwargs) for func, args, kwargs in self.items]\n",
      "/home/scitator/.conda/envs/python2/lib/python2.7/site-packages/sklearn/externals/joblib/parallel.py:72: DeprecationWarning: using a non-integer number instead of an integer will result in an error in the future\n",
      "  return [func(*args, **kwargs) for func, args, kwargs in self.items]\n",
      "/home/scitator/.conda/envs/python2/lib/python2.7/site-packages/sklearn/externals/joblib/parallel.py:72: DeprecationWarning: using a non-integer number instead of an integer will result in an error in the future\n",
      "  return [func(*args, **kwargs) for func, args, kwargs in self.items]\n",
      "/home/scitator/.conda/envs/python2/lib/python2.7/site-packages/sklearn/externals/joblib/parallel.py:72: DeprecationWarning: using a non-integer number instead of an integer will result in an error in the future\n",
      "  return [func(*args, **kwargs) for func, args, kwargs in self.items]\n",
      "/home/scitator/.conda/envs/python2/lib/python2.7/site-packages/sklearn/externals/joblib/parallel.py:72: DeprecationWarning: using a non-integer number instead of an integer will result in an error in the future\n",
      "  return [func(*args, **kwargs) for func, args, kwargs in self.items]\n",
      "/home/scitator/.conda/envs/python2/lib/python2.7/site-packages/sklearn/externals/joblib/parallel.py:72: DeprecationWarning: using a non-integer number instead of an integer will result in an error in the future\n",
      "  return [func(*args, **kwargs) for func, args, kwargs in self.items]\n",
      "/home/scitator/.conda/envs/python2/lib/python2.7/site-packages/sklearn/externals/joblib/parallel.py:72: DeprecationWarning: using a non-integer number instead of an integer will result in an error in the future\n",
      "  return [func(*args, **kwargs) for func, args, kwargs in self.items]\n",
      "/home/scitator/.conda/envs/python2/lib/python2.7/site-packages/sklearn/externals/joblib/parallel.py:72: DeprecationWarning: using a non-integer number instead of an integer will result in an error in the future\n",
      "  return [func(*args, **kwargs) for func, args, kwargs in self.items]\n",
      "/home/scitator/.conda/envs/python2/lib/python2.7/site-packages/sklearn/externals/joblib/parallel.py:72: DeprecationWarning: using a non-integer number instead of an integer will result in an error in the future\n",
      "  return [func(*args, **kwargs) for func, args, kwargs in self.items]\n",
      "/home/scitator/.conda/envs/python2/lib/python2.7/site-packages/sklearn/externals/joblib/parallel.py:72: DeprecationWarning: using a non-integer number instead of an integer will result in an error in the future\n",
      "  return [func(*args, **kwargs) for func, args, kwargs in self.items]\n",
      "/home/scitator/.conda/envs/python2/lib/python2.7/site-packages/sklearn/externals/joblib/parallel.py:72: DeprecationWarning: using a non-integer number instead of an integer will result in an error in the future\n",
      "  return [func(*args, **kwargs) for func, args, kwargs in self.items]\n",
      "/home/scitator/.conda/envs/python2/lib/python2.7/site-packages/sklearn/externals/joblib/parallel.py:72: DeprecationWarning: using a non-integer number instead of an integer will result in an error in the future\n",
      "  return [func(*args, **kwargs) for func, args, kwargs in self.items]\n",
      "/home/scitator/.conda/envs/python2/lib/python2.7/site-packages/sklearn/externals/joblib/parallel.py:72: DeprecationWarning: using a non-integer number instead of an integer will result in an error in the future\n",
      "  return [func(*args, **kwargs) for func, args, kwargs in self.items]\n",
      "/home/scitator/.conda/envs/python2/lib/python2.7/site-packages/sklearn/externals/joblib/parallel.py:72: DeprecationWarning: using a non-integer number instead of an integer will result in an error in the future\n",
      "  return [func(*args, **kwargs) for func, args, kwargs in self.items]\n",
      "/home/scitator/.conda/envs/python2/lib/python2.7/site-packages/sklearn/externals/joblib/parallel.py:72: DeprecationWarning: using a non-integer number instead of an integer will result in an error in the future\n",
      "  return [func(*args, **kwargs) for func, args, kwargs in self.items]\n",
      "/home/scitator/.conda/envs/python2/lib/python2.7/site-packages/sklearn/externals/joblib/parallel.py:72: DeprecationWarning: using a non-integer number instead of an integer will result in an error in the future\n",
      "  return [func(*args, **kwargs) for func, args, kwargs in self.items]\n",
      "/home/scitator/.conda/envs/python2/lib/python2.7/site-packages/sklearn/externals/joblib/parallel.py:72: DeprecationWarning: using a non-integer number instead of an integer will result in an error in the future\n",
      "  return [func(*args, **kwargs) for func, args, kwargs in self.items]\n",
      "/home/scitator/.conda/envs/python2/lib/python2.7/site-packages/sklearn/externals/joblib/parallel.py:72: DeprecationWarning: using a non-integer number instead of an integer will result in an error in the future\n",
      "  return [func(*args, **kwargs) for func, args, kwargs in self.items]\n",
      "/home/scitator/.conda/envs/python2/lib/python2.7/site-packages/sklearn/externals/joblib/parallel.py:72: DeprecationWarning: using a non-integer number instead of an integer will result in an error in the future\n",
      "  return [func(*args, **kwargs) for func, args, kwargs in self.items]\n",
      "/home/scitator/.conda/envs/python2/lib/python2.7/site-packages/sklearn/externals/joblib/parallel.py:72: DeprecationWarning: using a non-integer number instead of an integer will result in an error in the future\n",
      "  return [func(*args, **kwargs) for func, args, kwargs in self.items]\n",
      "/home/scitator/.conda/envs/python2/lib/python2.7/site-packages/sklearn/externals/joblib/parallel.py:72: DeprecationWarning: using a non-integer number instead of an integer will result in an error in the future\n",
      "  return [func(*args, **kwargs) for func, args, kwargs in self.items]\n",
      "/home/scitator/.conda/envs/python2/lib/python2.7/site-packages/sklearn/externals/joblib/parallel.py:72: DeprecationWarning: using a non-integer number instead of an integer will result in an error in the future\n",
      "  return [func(*args, **kwargs) for func, args, kwargs in self.items]\n"
     ]
    },
    {
     "name": "stdout",
     "output_type": "stream",
     "text": [
      "[CV] n_neighbors=2.0 .................................................\n",
      "[CV] n_neighbors=2.0 .................................................\n",
      "[CV] n_neighbors=2.0 .................................................\n",
      "[CV] ........................ n_neighbors=2.0, score=0.550084 -17.2min[CV] ........................ n_neighbors=2.0, score=0.550685 -16.9min[CV] ........................ n_neighbors=2.0, score=0.557550 -16.8min\n",
      "\n",
      "\n",
      "[CV] n_neighbors=4.0 .................................................\n",
      "[CV] n_neighbors=2.0 .................................................\n",
      "[CV] n_neighbors=2.0 .................................................\n",
      "[CV] ........................ n_neighbors=4.0, score=0.567316 -16.8min[CV] ........................ n_neighbors=2.0, score=0.549147 -17.3min[CV] ........................ n_neighbors=2.0, score=0.552380 -17.8min\n",
      "\n",
      "\n",
      "[CV] n_neighbors=4.0 .................................................\n",
      "[CV] n_neighbors=4.0 .................................................\n",
      "[CV] n_neighbors=4.0 .................................................\n",
      "[CV] ........................ n_neighbors=4.0, score=0.566384 -19.0min[CV] ........................ n_neighbors=4.0, score=0.569419 -18.9min[CV] ........................ n_neighbors=4.0, score=0.573285 -18.1min\n",
      "\n",
      "\n",
      "[CV] n_neighbors=8.0 .................................................\n",
      "[CV] n_neighbors=8.0 .................................................\n",
      "[CV] n_neighbors=4.0 .................................................\n",
      "[CV] ........................ n_neighbors=8.0, score=0.587996 -17.9min[CV] ........................ n_neighbors=8.0, score=0.593892 -18.3min[CV] ........................ n_neighbors=4.0, score=0.565841 -18.1min\n",
      "\n",
      "\n",
      "[CV] n_neighbors=8.0 .................................................\n",
      "[CV] n_neighbors=8.0 .................................................\n",
      "[CV] n_neighbors=8.0 .................................................\n",
      "[CV] ........................ n_neighbors=8.0, score=0.596783 -17.9min[CV] ........................ n_neighbors=8.0, score=0.588837 -16.8min[CV] ........................ n_neighbors=8.0, score=0.591191 -17.3min\n",
      "\n",
      "\n",
      "[CV] n_neighbors=16.0 ................................................\n",
      "[CV] n_neighbors=16.0 ................................................\n",
      "[CV] n_neighbors=16.0 ................................................\n",
      "[CV] ....................... n_neighbors=16.0, score=0.616806 -19.7min[CV] ....................... n_neighbors=16.0, score=0.620040 -20.5min[CV] ....................... n_neighbors=16.0, score=0.616849 -19.5min\n",
      "\n",
      "\n",
      "[CV] n_neighbors=16.0 ................................................\n",
      "[CV] n_neighbors=32.0 ................................................\n",
      "[CV] n_neighbors=16.0 ................................................\n",
      "[CV] ....................... n_neighbors=16.0, score=0.614697 -16.8min[CV] ....................... n_neighbors=32.0, score=0.646539 -16.2min[CV] ....................... n_neighbors=16.0, score=0.622762 -17.0min\n",
      "\n",
      "\n",
      "[CV] n_neighbors=32.0 ................................................\n",
      "[CV] n_neighbors=32.0 ................................................\n",
      "[CV] n_neighbors=32.0 ................................................\n",
      "[CV] ....................... n_neighbors=32.0, score=0.648245 -17.7min[CV] ....................... n_neighbors=32.0, score=0.641873 -18.3min[CV] ....................... n_neighbors=32.0, score=0.647346 -18.3min\n",
      "\n",
      "\n",
      "[CV] n_neighbors=32.0 ................................................\n",
      "[CV] ....................... n_neighbors=32.0, score=0.642315 -11.2min\n"
     ]
    },
    {
     "data": {
      "text/plain": [
       "GridSearchCV(cv=sklearn.cross_validation.KFold(n=97230, n_folds=5, shuffle=True, random_state=42),\n",
       "       error_score='raise',\n",
       "       estimator=KNeighborsClassifier(algorithm='auto', leaf_size=30, metric='minkowski',\n",
       "           metric_params=None, n_jobs=1, n_neighbors=5, p=2,\n",
       "           weights='uniform'),\n",
       "       fit_params={}, iid=True, n_jobs=3,\n",
       "       param_grid={'n_neighbors': array([  2.,   4.,   8.,  16.,  32.])},\n",
       "       pre_dispatch='2*n_jobs', refit=True, scoring='roc_auc', verbose=8)"
      ]
     },
     "execution_count": 100,
     "metadata": {},
     "output_type": "execute_result"
    }
   ],
   "source": [
    "gs.fit(X_scale, y)"
   ]
  },
  {
   "cell_type": "code",
   "execution_count": 101,
   "metadata": {
    "collapsed": false
   },
   "outputs": [
    {
     "name": "stdout",
     "output_type": "stream",
     "text": [
      "parameter -  32.0 , MVC:  0.645263637464\n",
      "parameter -  16.0 , MVC:  0.618230633313\n",
      "parameter -  8.0 , MVC:  0.591739975357\n",
      "parameter -  4.0 , MVC:  0.568449020221\n",
      "parameter -  2.0 , MVC:  0.551969265077\n"
     ]
    }
   ],
   "source": [
    "gridScore1(gs, 'n_neighbors')"
   ]
  },
  {
   "cell_type": "code",
   "execution_count": 102,
   "metadata": {
    "collapsed": true
   },
   "outputs": [],
   "source": [
    "gridKNN = {'n_neighbors': np.power(2.0, np.arange(6, 10))}"
   ]
  },
  {
   "cell_type": "code",
   "execution_count": 103,
   "metadata": {
    "collapsed": true
   },
   "outputs": [],
   "source": [
    "gs = GridSearchCV(clfKNN, gridKNN, scoring='roc_auc', cv=kf, verbose=8, n_jobs=3)"
   ]
  },
  {
   "cell_type": "code",
   "execution_count": 104,
   "metadata": {
    "collapsed": false,
    "scrolled": true
   },
   "outputs": [
    {
     "name": "stdout",
     "output_type": "stream",
     "text": [
      "Fitting 5 folds for each of 4 candidates, totalling 20 fits\n"
     ]
    },
    {
     "name": "stderr",
     "output_type": "stream",
     "text": [
      "[Parallel(n_jobs=3)]: Done  12 tasks      | elapsed: 73.6min\n",
      "[Parallel(n_jobs=3)]: Done  20 out of  20 | elapsed: 130.2min finished\n",
      "/home/scitator/.conda/envs/python2/lib/python2.7/site-packages/sklearn/externals/joblib/parallel.py:72: DeprecationWarning: using a non-integer number instead of an integer will result in an error in the future\n",
      "  return [func(*args, **kwargs) for func, args, kwargs in self.items]\n",
      "/home/scitator/.conda/envs/python2/lib/python2.7/site-packages/sklearn/externals/joblib/parallel.py:72: DeprecationWarning: using a non-integer number instead of an integer will result in an error in the future\n",
      "  return [func(*args, **kwargs) for func, args, kwargs in self.items]\n",
      "/home/scitator/.conda/envs/python2/lib/python2.7/site-packages/sklearn/externals/joblib/parallel.py:72: DeprecationWarning: using a non-integer number instead of an integer will result in an error in the future\n",
      "  return [func(*args, **kwargs) for func, args, kwargs in self.items]\n",
      "/home/scitator/.conda/envs/python2/lib/python2.7/site-packages/sklearn/externals/joblib/parallel.py:72: DeprecationWarning: using a non-integer number instead of an integer will result in an error in the future\n",
      "  return [func(*args, **kwargs) for func, args, kwargs in self.items]\n",
      "/home/scitator/.conda/envs/python2/lib/python2.7/site-packages/sklearn/externals/joblib/parallel.py:72: DeprecationWarning: using a non-integer number instead of an integer will result in an error in the future\n",
      "  return [func(*args, **kwargs) for func, args, kwargs in self.items]\n",
      "/home/scitator/.conda/envs/python2/lib/python2.7/site-packages/sklearn/externals/joblib/parallel.py:72: DeprecationWarning: using a non-integer number instead of an integer will result in an error in the future\n",
      "  return [func(*args, **kwargs) for func, args, kwargs in self.items]\n",
      "/home/scitator/.conda/envs/python2/lib/python2.7/site-packages/sklearn/externals/joblib/parallel.py:72: DeprecationWarning: using a non-integer number instead of an integer will result in an error in the future\n",
      "  return [func(*args, **kwargs) for func, args, kwargs in self.items]\n",
      "/home/scitator/.conda/envs/python2/lib/python2.7/site-packages/sklearn/externals/joblib/parallel.py:72: DeprecationWarning: using a non-integer number instead of an integer will result in an error in the future\n",
      "  return [func(*args, **kwargs) for func, args, kwargs in self.items]\n",
      "/home/scitator/.conda/envs/python2/lib/python2.7/site-packages/sklearn/externals/joblib/parallel.py:72: DeprecationWarning: using a non-integer number instead of an integer will result in an error in the future\n",
      "  return [func(*args, **kwargs) for func, args, kwargs in self.items]\n",
      "/home/scitator/.conda/envs/python2/lib/python2.7/site-packages/sklearn/externals/joblib/parallel.py:72: DeprecationWarning: using a non-integer number instead of an integer will result in an error in the future\n",
      "  return [func(*args, **kwargs) for func, args, kwargs in self.items]\n",
      "/home/scitator/.conda/envs/python2/lib/python2.7/site-packages/sklearn/externals/joblib/parallel.py:72: DeprecationWarning: using a non-integer number instead of an integer will result in an error in the future\n",
      "  return [func(*args, **kwargs) for func, args, kwargs in self.items]\n",
      "/home/scitator/.conda/envs/python2/lib/python2.7/site-packages/sklearn/externals/joblib/parallel.py:72: DeprecationWarning: using a non-integer number instead of an integer will result in an error in the future\n",
      "  return [func(*args, **kwargs) for func, args, kwargs in self.items]\n",
      "/home/scitator/.conda/envs/python2/lib/python2.7/site-packages/sklearn/externals/joblib/parallel.py:72: DeprecationWarning: using a non-integer number instead of an integer will result in an error in the future\n",
      "  return [func(*args, **kwargs) for func, args, kwargs in self.items]\n",
      "/home/scitator/.conda/envs/python2/lib/python2.7/site-packages/sklearn/externals/joblib/parallel.py:72: DeprecationWarning: using a non-integer number instead of an integer will result in an error in the future\n",
      "  return [func(*args, **kwargs) for func, args, kwargs in self.items]\n",
      "/home/scitator/.conda/envs/python2/lib/python2.7/site-packages/sklearn/externals/joblib/parallel.py:72: DeprecationWarning: using a non-integer number instead of an integer will result in an error in the future\n",
      "  return [func(*args, **kwargs) for func, args, kwargs in self.items]\n",
      "/home/scitator/.conda/envs/python2/lib/python2.7/site-packages/sklearn/externals/joblib/parallel.py:72: DeprecationWarning: using a non-integer number instead of an integer will result in an error in the future\n",
      "  return [func(*args, **kwargs) for func, args, kwargs in self.items]\n",
      "/home/scitator/.conda/envs/python2/lib/python2.7/site-packages/sklearn/externals/joblib/parallel.py:72: DeprecationWarning: using a non-integer number instead of an integer will result in an error in the future\n",
      "  return [func(*args, **kwargs) for func, args, kwargs in self.items]\n",
      "/home/scitator/.conda/envs/python2/lib/python2.7/site-packages/sklearn/externals/joblib/parallel.py:72: DeprecationWarning: using a non-integer number instead of an integer will result in an error in the future\n",
      "  return [func(*args, **kwargs) for func, args, kwargs in self.items]\n",
      "/home/scitator/.conda/envs/python2/lib/python2.7/site-packages/sklearn/externals/joblib/parallel.py:72: DeprecationWarning: using a non-integer number instead of an integer will result in an error in the future\n",
      "  return [func(*args, **kwargs) for func, args, kwargs in self.items]\n",
      "/home/scitator/.conda/envs/python2/lib/python2.7/site-packages/sklearn/externals/joblib/parallel.py:72: DeprecationWarning: using a non-integer number instead of an integer will result in an error in the future\n",
      "  return [func(*args, **kwargs) for func, args, kwargs in self.items]\n",
      "/home/scitator/.conda/envs/python2/lib/python2.7/site-packages/sklearn/externals/joblib/parallel.py:72: DeprecationWarning: using a non-integer number instead of an integer will result in an error in the future\n",
      "  return [func(*args, **kwargs) for func, args, kwargs in self.items]\n",
      "/home/scitator/.conda/envs/python2/lib/python2.7/site-packages/sklearn/externals/joblib/parallel.py:72: DeprecationWarning: using a non-integer number instead of an integer will result in an error in the future\n",
      "  return [func(*args, **kwargs) for func, args, kwargs in self.items]\n",
      "/home/scitator/.conda/envs/python2/lib/python2.7/site-packages/sklearn/externals/joblib/parallel.py:72: DeprecationWarning: using a non-integer number instead of an integer will result in an error in the future\n",
      "  return [func(*args, **kwargs) for func, args, kwargs in self.items]\n",
      "/home/scitator/.conda/envs/python2/lib/python2.7/site-packages/sklearn/externals/joblib/parallel.py:72: DeprecationWarning: using a non-integer number instead of an integer will result in an error in the future\n",
      "  return [func(*args, **kwargs) for func, args, kwargs in self.items]\n",
      "/home/scitator/.conda/envs/python2/lib/python2.7/site-packages/sklearn/externals/joblib/parallel.py:72: DeprecationWarning: using a non-integer number instead of an integer will result in an error in the future\n",
      "  return [func(*args, **kwargs) for func, args, kwargs in self.items]\n",
      "/home/scitator/.conda/envs/python2/lib/python2.7/site-packages/sklearn/externals/joblib/parallel.py:72: DeprecationWarning: using a non-integer number instead of an integer will result in an error in the future\n",
      "  return [func(*args, **kwargs) for func, args, kwargs in self.items]\n",
      "/home/scitator/.conda/envs/python2/lib/python2.7/site-packages/sklearn/externals/joblib/parallel.py:72: DeprecationWarning: using a non-integer number instead of an integer will result in an error in the future\n",
      "  return [func(*args, **kwargs) for func, args, kwargs in self.items]\n",
      "/home/scitator/.conda/envs/python2/lib/python2.7/site-packages/sklearn/externals/joblib/parallel.py:72: DeprecationWarning: using a non-integer number instead of an integer will result in an error in the future\n",
      "  return [func(*args, **kwargs) for func, args, kwargs in self.items]\n",
      "/home/scitator/.conda/envs/python2/lib/python2.7/site-packages/sklearn/externals/joblib/parallel.py:72: DeprecationWarning: using a non-integer number instead of an integer will result in an error in the future\n",
      "  return [func(*args, **kwargs) for func, args, kwargs in self.items]\n",
      "/home/scitator/.conda/envs/python2/lib/python2.7/site-packages/sklearn/externals/joblib/parallel.py:72: DeprecationWarning: using a non-integer number instead of an integer will result in an error in the future\n",
      "  return [func(*args, **kwargs) for func, args, kwargs in self.items]\n",
      "/home/scitator/.conda/envs/python2/lib/python2.7/site-packages/sklearn/externals/joblib/parallel.py:72: DeprecationWarning: using a non-integer number instead of an integer will result in an error in the future\n",
      "  return [func(*args, **kwargs) for func, args, kwargs in self.items]\n",
      "/home/scitator/.conda/envs/python2/lib/python2.7/site-packages/sklearn/externals/joblib/parallel.py:72: DeprecationWarning: using a non-integer number instead of an integer will result in an error in the future\n",
      "  return [func(*args, **kwargs) for func, args, kwargs in self.items]\n",
      "/home/scitator/.conda/envs/python2/lib/python2.7/site-packages/sklearn/externals/joblib/parallel.py:72: DeprecationWarning: using a non-integer number instead of an integer will result in an error in the future\n",
      "  return [func(*args, **kwargs) for func, args, kwargs in self.items]\n",
      "/home/scitator/.conda/envs/python2/lib/python2.7/site-packages/sklearn/externals/joblib/parallel.py:72: DeprecationWarning: using a non-integer number instead of an integer will result in an error in the future\n",
      "  return [func(*args, **kwargs) for func, args, kwargs in self.items]\n",
      "/home/scitator/.conda/envs/python2/lib/python2.7/site-packages/sklearn/externals/joblib/parallel.py:72: DeprecationWarning: using a non-integer number instead of an integer will result in an error in the future\n",
      "  return [func(*args, **kwargs) for func, args, kwargs in self.items]\n",
      "/home/scitator/.conda/envs/python2/lib/python2.7/site-packages/sklearn/externals/joblib/parallel.py:72: DeprecationWarning: using a non-integer number instead of an integer will result in an error in the future\n",
      "  return [func(*args, **kwargs) for func, args, kwargs in self.items]\n",
      "/home/scitator/.conda/envs/python2/lib/python2.7/site-packages/sklearn/externals/joblib/parallel.py:72: DeprecationWarning: using a non-integer number instead of an integer will result in an error in the future\n",
      "  return [func(*args, **kwargs) for func, args, kwargs in self.items]\n",
      "/home/scitator/.conda/envs/python2/lib/python2.7/site-packages/sklearn/externals/joblib/parallel.py:72: DeprecationWarning: using a non-integer number instead of an integer will result in an error in the future\n",
      "  return [func(*args, **kwargs) for func, args, kwargs in self.items]\n",
      "/home/scitator/.conda/envs/python2/lib/python2.7/site-packages/sklearn/externals/joblib/parallel.py:72: DeprecationWarning: using a non-integer number instead of an integer will result in an error in the future\n",
      "  return [func(*args, **kwargs) for func, args, kwargs in self.items]\n",
      "/home/scitator/.conda/envs/python2/lib/python2.7/site-packages/sklearn/externals/joblib/parallel.py:72: DeprecationWarning: using a non-integer number instead of an integer will result in an error in the future\n",
      "  return [func(*args, **kwargs) for func, args, kwargs in self.items]\n",
      "/home/scitator/.conda/envs/python2/lib/python2.7/site-packages/sklearn/externals/joblib/parallel.py:72: DeprecationWarning: using a non-integer number instead of an integer will result in an error in the future\n",
      "  return [func(*args, **kwargs) for func, args, kwargs in self.items]\n",
      "/home/scitator/.conda/envs/python2/lib/python2.7/site-packages/sklearn/externals/joblib/parallel.py:72: DeprecationWarning: using a non-integer number instead of an integer will result in an error in the future\n",
      "  return [func(*args, **kwargs) for func, args, kwargs in self.items]\n",
      "/home/scitator/.conda/envs/python2/lib/python2.7/site-packages/sklearn/externals/joblib/parallel.py:72: DeprecationWarning: using a non-integer number instead of an integer will result in an error in the future\n",
      "  return [func(*args, **kwargs) for func, args, kwargs in self.items]\n",
      "/home/scitator/.conda/envs/python2/lib/python2.7/site-packages/sklearn/externals/joblib/parallel.py:72: DeprecationWarning: using a non-integer number instead of an integer will result in an error in the future\n",
      "  return [func(*args, **kwargs) for func, args, kwargs in self.items]\n",
      "/home/scitator/.conda/envs/python2/lib/python2.7/site-packages/sklearn/externals/joblib/parallel.py:72: DeprecationWarning: using a non-integer number instead of an integer will result in an error in the future\n",
      "  return [func(*args, **kwargs) for func, args, kwargs in self.items]\n",
      "/home/scitator/.conda/envs/python2/lib/python2.7/site-packages/sklearn/externals/joblib/parallel.py:72: DeprecationWarning: using a non-integer number instead of an integer will result in an error in the future\n",
      "  return [func(*args, **kwargs) for func, args, kwargs in self.items]\n",
      "/home/scitator/.conda/envs/python2/lib/python2.7/site-packages/sklearn/externals/joblib/parallel.py:72: DeprecationWarning: using a non-integer number instead of an integer will result in an error in the future\n",
      "  return [func(*args, **kwargs) for func, args, kwargs in self.items]\n",
      "/home/scitator/.conda/envs/python2/lib/python2.7/site-packages/sklearn/externals/joblib/parallel.py:72: DeprecationWarning: using a non-integer number instead of an integer will result in an error in the future\n",
      "  return [func(*args, **kwargs) for func, args, kwargs in self.items]\n",
      "/home/scitator/.conda/envs/python2/lib/python2.7/site-packages/sklearn/externals/joblib/parallel.py:72: DeprecationWarning: using a non-integer number instead of an integer will result in an error in the future\n",
      "  return [func(*args, **kwargs) for func, args, kwargs in self.items]\n",
      "/home/scitator/.conda/envs/python2/lib/python2.7/site-packages/sklearn/externals/joblib/parallel.py:72: DeprecationWarning: using a non-integer number instead of an integer will result in an error in the future\n",
      "  return [func(*args, **kwargs) for func, args, kwargs in self.items]\n",
      "/home/scitator/.conda/envs/python2/lib/python2.7/site-packages/sklearn/externals/joblib/parallel.py:72: DeprecationWarning: using a non-integer number instead of an integer will result in an error in the future\n",
      "  return [func(*args, **kwargs) for func, args, kwargs in self.items]\n",
      "/home/scitator/.conda/envs/python2/lib/python2.7/site-packages/sklearn/externals/joblib/parallel.py:72: DeprecationWarning: using a non-integer number instead of an integer will result in an error in the future\n",
      "  return [func(*args, **kwargs) for func, args, kwargs in self.items]\n",
      "/home/scitator/.conda/envs/python2/lib/python2.7/site-packages/sklearn/externals/joblib/parallel.py:72: DeprecationWarning: using a non-integer number instead of an integer will result in an error in the future\n",
      "  return [func(*args, **kwargs) for func, args, kwargs in self.items]\n",
      "/home/scitator/.conda/envs/python2/lib/python2.7/site-packages/sklearn/externals/joblib/parallel.py:72: DeprecationWarning: using a non-integer number instead of an integer will result in an error in the future\n",
      "  return [func(*args, **kwargs) for func, args, kwargs in self.items]\n",
      "/home/scitator/.conda/envs/python2/lib/python2.7/site-packages/sklearn/externals/joblib/parallel.py:72: DeprecationWarning: using a non-integer number instead of an integer will result in an error in the future\n",
      "  return [func(*args, **kwargs) for func, args, kwargs in self.items]\n",
      "/home/scitator/.conda/envs/python2/lib/python2.7/site-packages/sklearn/externals/joblib/parallel.py:72: DeprecationWarning: using a non-integer number instead of an integer will result in an error in the future\n",
      "  return [func(*args, **kwargs) for func, args, kwargs in self.items]\n",
      "/home/scitator/.conda/envs/python2/lib/python2.7/site-packages/sklearn/externals/joblib/parallel.py:72: DeprecationWarning: using a non-integer number instead of an integer will result in an error in the future\n",
      "  return [func(*args, **kwargs) for func, args, kwargs in self.items]\n",
      "/home/scitator/.conda/envs/python2/lib/python2.7/site-packages/sklearn/externals/joblib/parallel.py:72: DeprecationWarning: using a non-integer number instead of an integer will result in an error in the future\n",
      "  return [func(*args, **kwargs) for func, args, kwargs in self.items]\n",
      "/home/scitator/.conda/envs/python2/lib/python2.7/site-packages/sklearn/externals/joblib/parallel.py:72: DeprecationWarning: using a non-integer number instead of an integer will result in an error in the future\n",
      "  return [func(*args, **kwargs) for func, args, kwargs in self.items]\n",
      "/home/scitator/.conda/envs/python2/lib/python2.7/site-packages/sklearn/externals/joblib/parallel.py:72: DeprecationWarning: using a non-integer number instead of an integer will result in an error in the future\n",
      "  return [func(*args, **kwargs) for func, args, kwargs in self.items]\n",
      "/home/scitator/.conda/envs/python2/lib/python2.7/site-packages/sklearn/externals/joblib/parallel.py:72: DeprecationWarning: using a non-integer number instead of an integer will result in an error in the future\n",
      "  return [func(*args, **kwargs) for func, args, kwargs in self.items]\n",
      "/home/scitator/.conda/envs/python2/lib/python2.7/site-packages/sklearn/externals/joblib/parallel.py:72: DeprecationWarning: using a non-integer number instead of an integer will result in an error in the future\n",
      "  return [func(*args, **kwargs) for func, args, kwargs in self.items]\n",
      "/home/scitator/.conda/envs/python2/lib/python2.7/site-packages/sklearn/externals/joblib/parallel.py:72: DeprecationWarning: using a non-integer number instead of an integer will result in an error in the future\n",
      "  return [func(*args, **kwargs) for func, args, kwargs in self.items]\n",
      "/home/scitator/.conda/envs/python2/lib/python2.7/site-packages/sklearn/externals/joblib/parallel.py:72: DeprecationWarning: using a non-integer number instead of an integer will result in an error in the future\n",
      "  return [func(*args, **kwargs) for func, args, kwargs in self.items]\n",
      "/home/scitator/.conda/envs/python2/lib/python2.7/site-packages/sklearn/externals/joblib/parallel.py:72: DeprecationWarning: using a non-integer number instead of an integer will result in an error in the future\n",
      "  return [func(*args, **kwargs) for func, args, kwargs in self.items]\n",
      "/home/scitator/.conda/envs/python2/lib/python2.7/site-packages/sklearn/externals/joblib/parallel.py:72: DeprecationWarning: using a non-integer number instead of an integer will result in an error in the future\n",
      "  return [func(*args, **kwargs) for func, args, kwargs in self.items]\n",
      "/home/scitator/.conda/envs/python2/lib/python2.7/site-packages/sklearn/externals/joblib/parallel.py:72: DeprecationWarning: using a non-integer number instead of an integer will result in an error in the future\n",
      "  return [func(*args, **kwargs) for func, args, kwargs in self.items]\n",
      "/home/scitator/.conda/envs/python2/lib/python2.7/site-packages/sklearn/externals/joblib/parallel.py:72: DeprecationWarning: using a non-integer number instead of an integer will result in an error in the future\n",
      "  return [func(*args, **kwargs) for func, args, kwargs in self.items]\n",
      "/home/scitator/.conda/envs/python2/lib/python2.7/site-packages/sklearn/externals/joblib/parallel.py:72: DeprecationWarning: using a non-integer number instead of an integer will result in an error in the future\n",
      "  return [func(*args, **kwargs) for func, args, kwargs in self.items]\n",
      "/home/scitator/.conda/envs/python2/lib/python2.7/site-packages/sklearn/externals/joblib/parallel.py:72: DeprecationWarning: using a non-integer number instead of an integer will result in an error in the future\n",
      "  return [func(*args, **kwargs) for func, args, kwargs in self.items]\n",
      "/home/scitator/.conda/envs/python2/lib/python2.7/site-packages/sklearn/externals/joblib/parallel.py:72: DeprecationWarning: using a non-integer number instead of an integer will result in an error in the future\n",
      "  return [func(*args, **kwargs) for func, args, kwargs in self.items]\n",
      "/home/scitator/.conda/envs/python2/lib/python2.7/site-packages/sklearn/externals/joblib/parallel.py:72: DeprecationWarning: using a non-integer number instead of an integer will result in an error in the future\n",
      "  return [func(*args, **kwargs) for func, args, kwargs in self.items]\n",
      "/home/scitator/.conda/envs/python2/lib/python2.7/site-packages/sklearn/externals/joblib/parallel.py:72: DeprecationWarning: using a non-integer number instead of an integer will result in an error in the future\n",
      "  return [func(*args, **kwargs) for func, args, kwargs in self.items]\n",
      "/home/scitator/.conda/envs/python2/lib/python2.7/site-packages/sklearn/externals/joblib/parallel.py:72: DeprecationWarning: using a non-integer number instead of an integer will result in an error in the future\n",
      "  return [func(*args, **kwargs) for func, args, kwargs in self.items]\n",
      "/home/scitator/.conda/envs/python2/lib/python2.7/site-packages/sklearn/externals/joblib/parallel.py:72: DeprecationWarning: using a non-integer number instead of an integer will result in an error in the future\n",
      "  return [func(*args, **kwargs) for func, args, kwargs in self.items]\n",
      "/home/scitator/.conda/envs/python2/lib/python2.7/site-packages/sklearn/externals/joblib/parallel.py:72: DeprecationWarning: using a non-integer number instead of an integer will result in an error in the future\n",
      "  return [func(*args, **kwargs) for func, args, kwargs in self.items]\n",
      "/home/scitator/.conda/envs/python2/lib/python2.7/site-packages/sklearn/externals/joblib/parallel.py:72: DeprecationWarning: using a non-integer number instead of an integer will result in an error in the future\n",
      "  return [func(*args, **kwargs) for func, args, kwargs in self.items]\n",
      "/home/scitator/.conda/envs/python2/lib/python2.7/site-packages/sklearn/externals/joblib/parallel.py:72: DeprecationWarning: using a non-integer number instead of an integer will result in an error in the future\n",
      "  return [func(*args, **kwargs) for func, args, kwargs in self.items]\n",
      "/home/scitator/.conda/envs/python2/lib/python2.7/site-packages/sklearn/externals/joblib/parallel.py:72: DeprecationWarning: using a non-integer number instead of an integer will result in an error in the future\n",
      "  return [func(*args, **kwargs) for func, args, kwargs in self.items]\n",
      "/home/scitator/.conda/envs/python2/lib/python2.7/site-packages/sklearn/externals/joblib/parallel.py:72: DeprecationWarning: using a non-integer number instead of an integer will result in an error in the future\n",
      "  return [func(*args, **kwargs) for func, args, kwargs in self.items]\n"
     ]
    },
    {
     "name": "stdout",
     "output_type": "stream",
     "text": [
      "[CV] n_neighbors=64.0 ................................................\n",
      "[CV] n_neighbors=64.0 ................................................\n",
      "[CV] n_neighbors=64.0 ................................................\n",
      "[CV] ....................... n_neighbors=64.0, score=0.667956 -18.1min[CV] ....................... n_neighbors=64.0, score=0.666308 -17.5min[CV] ....................... n_neighbors=64.0, score=0.665404 -17.4min\n",
      "\n",
      "\n",
      "[CV] n_neighbors=128.0 ...............................................\n",
      "[CV] n_neighbors=64.0 ................................................\n",
      "[CV] n_neighbors=64.0 ................................................\n",
      "[CV] ...................... n_neighbors=128.0, score=0.683860 -18.7min[CV] ....................... n_neighbors=64.0, score=0.664029 -18.4min[CV] ....................... n_neighbors=64.0, score=0.672486 -18.7min\n",
      "\n",
      "\n",
      "[CV] n_neighbors=128.0 ...............................................\n",
      "[CV] n_neighbors=128.0 ...............................................\n",
      "[CV] n_neighbors=128.0 ...............................................\n",
      "[CV] ...................... n_neighbors=128.0, score=0.684386 -17.9min[CV] ...................... n_neighbors=128.0, score=0.684264 -17.3min[CV] ...................... n_neighbors=128.0, score=0.681847 -18.7min\n",
      "\n",
      "\n",
      "[CV] n_neighbors=256.0 ...............................................\n",
      "[CV] n_neighbors=128.0 ...............................................\n",
      "[CV] n_neighbors=256.0 ...............................................\n",
      "[CV] ...................... n_neighbors=256.0, score=0.694289 -19.0min[CV] ...................... n_neighbors=128.0, score=0.681445 -17.0min[CV] ...................... n_neighbors=256.0, score=0.695983 -17.9min\n",
      "\n",
      "\n",
      "[CV] n_neighbors=256.0 ...............................................\n",
      "[CV] n_neighbors=256.0 ...............................................\n",
      "[CV] n_neighbors=256.0 ...............................................\n",
      "[CV] ...................... n_neighbors=256.0, score=0.695584 -22.7min[CV] ...................... n_neighbors=256.0, score=0.694145 -20.3min[CV] ...................... n_neighbors=256.0, score=0.694623 -22.0min\n",
      "\n",
      "\n",
      "[CV] n_neighbors=512.0 ...............................................\n",
      "[CV] n_neighbors=512.0 ...............................................\n",
      "[CV] n_neighbors=512.0 ...............................................\n",
      "[CV] ...................... n_neighbors=512.0, score=0.698995 -20.8min[CV] ...................... n_neighbors=512.0, score=0.698402 -22.6min[CV] ...................... n_neighbors=512.0, score=0.700697 -22.0min\n",
      "\n",
      "\n",
      "[CV] n_neighbors=512.0 ...............................................\n",
      "[CV] n_neighbors=512.0 ...............................................\n",
      "[CV] ...................... n_neighbors=512.0, score=0.702747 -13.5min[CV] ...................... n_neighbors=512.0, score=0.699433 -14.8min\n",
      "\n"
     ]
    },
    {
     "data": {
      "text/plain": [
       "GridSearchCV(cv=sklearn.cross_validation.KFold(n=97230, n_folds=5, shuffle=True, random_state=42),\n",
       "       error_score='raise',\n",
       "       estimator=KNeighborsClassifier(algorithm='auto', leaf_size=30, metric='minkowski',\n",
       "           metric_params=None, n_jobs=1, n_neighbors=5, p=2,\n",
       "           weights='uniform'),\n",
       "       fit_params={}, iid=True, n_jobs=3,\n",
       "       param_grid={'n_neighbors': array([  64.,  128.,  256.,  512.])},\n",
       "       pre_dispatch='2*n_jobs', refit=True, scoring='roc_auc', verbose=8)"
      ]
     },
     "execution_count": 104,
     "metadata": {},
     "output_type": "execute_result"
    }
   ],
   "source": [
    "gs.fit(X_scale, y)"
   ]
  },
  {
   "cell_type": "code",
   "execution_count": 105,
   "metadata": {
    "collapsed": false
   },
   "outputs": [
    {
     "name": "stdout",
     "output_type": "stream",
     "text": [
      "parameter -  512.0 , MVC:  0.700054467442\n",
      "parameter -  256.0 , MVC:  0.694924849166\n",
      "parameter -  128.0 , MVC:  0.683160458353\n",
      "parameter -  64.0 , MVC:  0.667236587863\n"
     ]
    }
   ],
   "source": [
    "gridScore1(gs, 'n_neighbors')"
   ]
  },
  {
   "cell_type": "code",
   "execution_count": 106,
   "metadata": {
    "collapsed": true
   },
   "outputs": [],
   "source": [
    "pca = PCA(n_components=150)"
   ]
  },
  {
   "cell_type": "code",
   "execution_count": 107,
   "metadata": {
    "collapsed": true
   },
   "outputs": [],
   "source": [
    "X_PCA = pca.fit_transform(X_scale, y)"
   ]
  },
  {
   "cell_type": "code",
   "execution_count": 110,
   "metadata": {
    "collapsed": false
   },
   "outputs": [
    {
     "data": {
      "text/plain": [
       "array([-1.9355369 , -1.51024403, -1.96806795,  1.69545284,  1.7645308 ,\n",
       "       -0.33900647,  0.92760675,  0.70738976,  3.10799496, -1.04628992,\n",
       "        0.73933871,  0.3271432 , -0.93045407, -1.04836149,  0.02627629,\n",
       "        1.25625948,  0.69750044,  1.9861236 , -0.45626928,  0.39061501,\n",
       "       -1.52764942,  0.74732445, -0.18303594,  0.93500983,  1.46733803,\n",
       "       -0.66314662,  0.3378304 ,  0.8886581 ,  0.80003824,  0.04402689,\n",
       "        1.04935863, -0.76256212,  0.51378513, -0.16991222, -0.23582013,\n",
       "        2.84620572, -1.72610019,  2.07427909,  1.16610327,  0.9270081 ,\n",
       "        0.69998721, -1.48450686,  0.256101  ,  0.94513736, -1.15030737,\n",
       "       -0.30501772,  1.10412669,  0.37867131,  1.52287504, -0.54015358,\n",
       "       -1.94289982, -0.94432529, -2.06765252, -0.10854373, -1.11224275,\n",
       "        0.59268899, -0.13994539,  3.91306067, -0.20530957,  0.46932947,\n",
       "       -0.21837178, -0.25251149, -0.00970731, -1.87816238,  0.33898517,\n",
       "        1.51097274,  1.4941962 ,  0.42742166, -0.82852625,  0.626291  ,\n",
       "       -1.33123773, -0.60519719, -1.75263931, -0.96487575,  0.9787648 ,\n",
       "        1.26759833,  0.7389408 , -0.97098321,  1.61188864,  1.21649315,\n",
       "       -0.08030583,  1.25819845,  0.30984203, -1.67364967, -1.34698958,\n",
       "        0.19233519,  2.32097496,  1.1038685 , -0.57183001,  1.93764079,\n",
       "        4.08555236, -2.71119088, -0.22904572,  1.19868236,  0.86946453,\n",
       "        3.03853294,  0.20321988, -0.50484128, -1.51152522, -0.01510771,\n",
       "        1.38910722, -0.56919188, -1.36001105, -1.14704598,  0.88147195,\n",
       "        0.33536856, -0.47537096, -0.93799707,  1.17470698,  0.4820395 ,\n",
       "        0.43020439, -3.93534519,  0.13481346,  0.30585174, -1.65898988,\n",
       "        1.14998699,  0.30612553, -1.80907872,  0.13546877, -0.8810297 ,\n",
       "       -0.76387171, -0.12424431,  0.21280925,  0.57956541, -0.8309994 ,\n",
       "        0.70383599,  1.40369478,  1.55604717, -0.77455905,  0.9628589 ,\n",
       "        1.32805979, -1.13805704, -0.53228813, -1.30434558,  0.30387946,\n",
       "       -0.94817415, -0.28832365,  1.1024962 ,  0.42897923, -0.57678959,\n",
       "       -0.25434668,  1.02442599, -0.09322855, -0.07052051,  0.72112287,\n",
       "       -0.17671602,  0.43252862,  0.57608694, -0.68658319, -0.29607975])"
      ]
     },
     "execution_count": 110,
     "metadata": {},
     "output_type": "execute_result"
    }
   ],
   "source": [
    "X_PCA[0]"
   ]
  },
  {
   "cell_type": "markdown",
   "metadata": {
    "collapsed": true
   },
   "source": [
    "# AdaBoost"
   ]
  },
  {
   "cell_type": "code",
   "execution_count": 12,
   "metadata": {
    "collapsed": true
   },
   "outputs": [],
   "source": [
    "gridAdaBoost = {'n_estimators': [25, 50, 100]}\n",
    "clfAdaBoost = AdaBoostClassifier()"
   ]
  },
  {
   "cell_type": "code",
   "execution_count": 13,
   "metadata": {
    "collapsed": true
   },
   "outputs": [],
   "source": [
    "kf = KFold(X.shape[0], n_folds=5, shuffle=True, random_state=42)\n",
    "gs = GridSearchCV(clfAdaBoost, gridAdaBoost, scoring='roc_auc', cv=kf, verbose=8, n_jobs=3)"
   ]
  },
  {
   "cell_type": "code",
   "execution_count": 16,
   "metadata": {
    "collapsed": false,
    "scrolled": true
   },
   "outputs": [
    {
     "name": "stdout",
     "output_type": "stream",
     "text": [
      "Fitting 5 folds for each of 3 candidates, totalling 15 fits\n",
      "[CV] n_estimators=25 .................................................\n",
      "[CV] n_estimators=25 .................................................\n",
      "[CV] n_estimators=25 .................................................\n",
      "[CV] ........................ n_estimators=25, score=0.691324 -  20.6s[CV] ........................ n_estimators=25, score=0.690014 -  22.7s[CV] ........................ n_estimators=25, score=0.685563 -  23.2s\n",
      "\n",
      "\n",
      "[CV] n_estimators=25 .................................................\n",
      "[CV] n_estimators=25 .................................................\n",
      "[CV] n_estimators=50 .................................................\n",
      "[CV] ........................ n_estimators=25, score=0.693607 -  21.3s[CV] ........................ n_estimators=25, score=0.693613 -  19.8s[CV] ........................ n_estimators=50, score=0.707160 -  45.0s\n",
      "\n",
      "\n",
      "[CV] n_estimators=50 .................................................\n",
      "[CV] n_estimators=50 .................................................\n",
      "[CV] n_estimators=50 .................................................\n",
      "[CV] ........................ n_estimators=50, score=0.710661 -  32.7s[CV] ........................ n_estimators=50, score=0.705265 -  48.2s[CV] ........................ n_estimators=50, score=0.712964 -  47.7s\n",
      "\n",
      "\n",
      "[CV] n_estimators=50 .................................................\n",
      "[CV] n_estimators=100 ................................................\n",
      "[CV] n_estimators=100 ................................................\n",
      "[CV] ........................ n_estimators=50, score=0.713935 -  31.0s[CV] ....................... n_estimators=100, score=0.726090 - 1.5min[CV] ....................... n_estimators=100, score=0.723043 - 1.5min\n",
      "\n",
      "\n",
      "[CV] n_estimators=100 ................................................\n",
      "[CV] n_estimators=100 ................................................\n",
      "[CV] ....................... n_estimators=100, score=0.726379 - 1.5min[CV] ....................... n_estimators=100, score=0.730235 - 1.2min\n",
      "\n",
      "[CV] n_estimators=100 ................................................\n",
      "[CV] ....................... n_estimators=100, score=0.728902 - 1.1min\n"
     ]
    },
    {
     "name": "stderr",
     "output_type": "stream",
     "text": [
      "[Parallel(n_jobs=3)]: Done  15 out of  15 | elapsed:  4.4min finished\n"
     ]
    },
    {
     "data": {
      "text/plain": [
       "GridSearchCV(cv=sklearn.cross_validation.KFold(n=97230, n_folds=5, shuffle=True, random_state=42),\n",
       "       error_score='raise',\n",
       "       estimator=AdaBoostClassifier(algorithm='SAMME.R', base_estimator=None,\n",
       "          learning_rate=1.0, n_estimators=50, random_state=None),\n",
       "       fit_params={}, iid=True, n_jobs=3,\n",
       "       param_grid={'n_estimators': [25, 50, 100]}, pre_dispatch='2*n_jobs',\n",
       "       refit=True, scoring='roc_auc', verbose=8)"
      ]
     },
     "execution_count": 16,
     "metadata": {},
     "output_type": "execute_result"
    }
   ],
   "source": [
    "gs.fit(X, y)"
   ]
  },
  {
   "cell_type": "code",
   "execution_count": 19,
   "metadata": {
    "collapsed": false
   },
   "outputs": [
    {
     "name": "stdout",
     "output_type": "stream",
     "text": [
      "parameter -  100 , MVC:  0.726929660432\n",
      "parameter -  50 , MVC:  0.709996935759\n",
      "parameter -  25 , MVC:  0.690824098903\n"
     ]
    }
   ],
   "source": [
    "gridScore1(gs, 'n_estimators')"
   ]
  },
  {
   "cell_type": "code",
   "execution_count": 20,
   "metadata": {
    "collapsed": false
   },
   "outputs": [
    {
     "name": "stdout",
     "output_type": "stream",
     "text": [
      "Fitting 5 folds for each of 3 candidates, totalling 15 fits\n",
      "[CV] n_estimators=25 .................................................\n",
      "[CV] n_estimators=25 .................................................\n",
      "[CV] n_estimators=25 .................................................\n",
      "[CV] ........................ n_estimators=25, score=0.691324 -  19.8s[CV] ........................ n_estimators=25, score=0.690014 -  23.8s[CV] ........................ n_estimators=25, score=0.685563 -  19.8s\n",
      "\n",
      "\n",
      "[CV] n_estimators=25 .................................................\n",
      "[CV] n_estimators=50 .................................................\n",
      "[CV] n_estimators=25 .................................................\n",
      "[CV] ........................ n_estimators=25, score=0.693607 -  24.0s[CV] ........................ n_estimators=50, score=0.707160 -  33.2s[CV] ........................ n_estimators=25, score=0.693613 -  21.1s\n",
      "\n",
      "\n",
      "[CV] n_estimators=50 .................................................\n",
      "[CV] n_estimators=50 .................................................\n",
      "[CV] n_estimators=50 .................................................\n",
      "[CV] ........................ n_estimators=50, score=0.705265 -  45.1s[CV] ........................ n_estimators=50, score=0.712964 -  35.2s[CV] ........................ n_estimators=50, score=0.710661 -  47.7s\n",
      "\n",
      "\n",
      "[CV] n_estimators=100 ................................................\n",
      "[CV] n_estimators=100 ................................................\n",
      "[CV] n_estimators=50 .................................................\n",
      "[CV] ....................... n_estimators=100, score=0.726090 - 1.2min[CV] ....................... n_estimators=100, score=0.726379 - 1.4min[CV] ........................ n_estimators=50, score=0.713935 -  44.3s\n",
      "\n",
      "\n",
      "[CV] n_estimators=100 ................................................\n",
      "[CV] n_estimators=100 ................................................\n",
      "[CV] n_estimators=100 ................................................\n",
      "[CV] ....................... n_estimators=100, score=0.730235 - 1.2min[CV] ....................... n_estimators=100, score=0.728902 - 1.3min[CV] ....................... n_estimators=100, score=0.723043 - 1.5min\n",
      "\n",
      "\n"
     ]
    },
    {
     "name": "stderr",
     "output_type": "stream",
     "text": [
      "[Parallel(n_jobs=3)]: Done  15 out of  15 | elapsed:  4.2min finished\n"
     ]
    },
    {
     "data": {
      "text/plain": [
       "GridSearchCV(cv=sklearn.cross_validation.KFold(n=97230, n_folds=5, shuffle=True, random_state=42),\n",
       "       error_score='raise',\n",
       "       estimator=AdaBoostClassifier(algorithm='SAMME.R', base_estimator=None,\n",
       "          learning_rate=1.0, n_estimators=50, random_state=None),\n",
       "       fit_params={}, iid=True, n_jobs=3,\n",
       "       param_grid={'n_estimators': [25, 50, 100]}, pre_dispatch='2*n_jobs',\n",
       "       refit=True, scoring='roc_auc', verbose=8)"
      ]
     },
     "execution_count": 20,
     "metadata": {},
     "output_type": "execute_result"
    }
   ],
   "source": [
    "gs.fit(X_scale, y)"
   ]
  },
  {
   "cell_type": "code",
   "execution_count": 21,
   "metadata": {
    "collapsed": false
   },
   "outputs": [
    {
     "name": "stdout",
     "output_type": "stream",
     "text": [
      "parameter -  100 , MVC:  0.726929660432\n",
      "parameter -  50 , MVC:  0.709996935759\n",
      "parameter -  25 , MVC:  0.690824098903\n"
     ]
    }
   ],
   "source": [
    "gridScore1(gs, 'n_estimators')"
   ]
  },
  {
   "cell_type": "code",
   "execution_count": null,
   "metadata": {
    "collapsed": true
   },
   "outputs": [],
   "source": []
  }
 ],
 "metadata": {
  "kernelspec": {
   "display_name": "Python 2",
   "language": "python",
   "name": "python2"
  },
  "language_info": {
   "codemirror_mode": {
    "name": "ipython",
    "version": 2
   },
   "file_extension": ".py",
   "mimetype": "text/x-python",
   "name": "python",
   "nbconvert_exporter": "python",
   "pygments_lexer": "ipython2",
   "version": "2.7.11"
  }
 },
 "nbformat": 4,
 "nbformat_minor": 0
}
