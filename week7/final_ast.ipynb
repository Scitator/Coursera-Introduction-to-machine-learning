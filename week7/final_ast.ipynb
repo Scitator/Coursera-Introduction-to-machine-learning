{
 "cells": [
  {
   "cell_type": "code",
   "execution_count": 45,
   "metadata": {
    "collapsed": true
   },
   "outputs": [],
   "source": [
    "import pandas as pd\n",
    "import numpy as np\n",
    "from sklearn.ensemble import GradientBoostingClassifier\n",
    "from sklearn.preprocessing import StandardScaler\n",
    "from sklearn.linear_model import LogisticRegression\n",
    "from sklearn.grid_search import GridSearchCV\n",
    "from sklearn.cross_validation import KFold\n",
    "from sklearn.metrics import roc_auc_score\n",
    "import operator\n",
    "import time\n",
    "import datetime"
   ]
  },
  {
   "cell_type": "markdown",
   "metadata": {},
   "source": [
    "### Load data"
   ]
  },
  {
   "cell_type": "code",
   "execution_count": 46,
   "metadata": {
    "collapsed": false
   },
   "outputs": [],
   "source": [
    "df = pd.read_csv('./features.csv', index_col='match_id')"
   ]
  },
  {
   "cell_type": "markdown",
   "metadata": {},
   "source": [
    "### Missing data"
   ]
  },
  {
   "cell_type": "code",
   "execution_count": 47,
   "metadata": {
    "collapsed": false
   },
   "outputs": [
    {
     "name": "stdout",
     "output_type": "stream",
     "text": [
      "first_blood_time \t-\t 0.79889951661\n",
      "first_blood_team \t-\t 0.79889951661\n",
      "first_blood_player1 \t-\t 0.79889951661\n",
      "first_blood_player2 \t-\t 0.547598477836\n",
      "radiant_bottle_time \t-\t 0.838619767561\n",
      "radiant_courier_time \t-\t 0.992882855086\n",
      "radiant_flying_courier_time \t-\t 0.717381466626\n",
      "radiant_first_ward_time \t-\t 0.981116939216\n",
      "dire_bottle_time \t-\t 0.833970996606\n",
      "dire_courier_time \t-\t 0.99304741335\n",
      "dire_flying_courier_time \t-\t 0.731584901779\n",
      "dire_first_ward_time \t-\t 0.981219788131\n"
     ]
    }
   ],
   "source": [
    "table = df.count()/df.shape[0]\n",
    "i = 0\n",
    "for x in table:\n",
    "    if x < 1.0: print df.columns.values[i] + \" \\t-\\t \" + str(x)\n",
    "    i = i + 1"
   ]
  },
  {
   "cell_type": "markdown",
   "metadata": {},
   "source": [
    "### Step 1: Gradient Boosting\n",
    "#### Gradient Boosting preprocessing:"
   ]
  },
  {
   "cell_type": "code",
   "execution_count": 63,
   "metadata": {
    "collapsed": false
   },
   "outputs": [],
   "source": [
    "y = df.radiant_win.values[:]\n",
    "df.fillna(0, inplace=True)\n",
    "df_GB = df.drop(['duration', 'radiant_win', 'tower_status_radiant', 'tower_status_dire', 'barracks_status_radiant', 'barracks_status_dire'], axis = 1)\n",
    "X = df_GB.values[:,:]"
   ]
  },
  {
   "cell_type": "markdown",
   "metadata": {},
   "source": [
    "#### Gradient Boosting Classifier train:"
   ]
  },
  {
   "cell_type": "code",
   "execution_count": 49,
   "metadata": {
    "collapsed": false
   },
   "outputs": [
    {
     "name": "stdout",
     "output_type": "stream",
     "text": [
      "n_estimators -  10 , train time:  0:01:04.922873\n",
      "n_estimators -  20 , train time:  0:02:17.809401\n",
      "n_estimators -  30 , train time:  0:04:02.644742\n",
      "n_estimators -  40 , train time:  0:05:29.961105\n",
      "n_estimators -  50 , train time:  0:06:58.649620\n"
     ]
    }
   ],
   "source": [
    "score = {}\n",
    "kf = KFold(df_GB.shape[0], n_folds=5, shuffle=True, random_state=42)\n",
    "for N in [10, 20, 30, 40, 50]:\n",
    "    start_time = datetime.datetime.now()\n",
    "    score_tmp = []\n",
    "    for train_index, test_index in kf:\n",
    "        X_train, X_test = X[train_index], X[test_index]\n",
    "        y_train, y_test = y[train_index], y[test_index]\n",
    "        clf = GradientBoostingClassifier(n_estimators=N, random_state=42)\n",
    "        clf.fit(X_train, y_train.ravel())\n",
    "        score_tmp.append(roc_auc_score(y_test, clf.predict_proba(X_test)[:, 1]))\n",
    "    score[N] = np.array(score_tmp).mean()\n",
    "    print \"n_estimators - \", N, ', train time: ', datetime.datetime.now() - start_time"
   ]
  },
  {
   "cell_type": "markdown",
   "metadata": {},
   "source": [
    "#### Gradient Boosting Classifier results:"
   ]
  },
  {
   "cell_type": "code",
   "execution_count": 50,
   "metadata": {
    "collapsed": false
   },
   "outputs": [
    {
     "name": "stdout",
     "output_type": "stream",
     "text": [
      "n_estimators -  50 , MRA:  0.697494352472\n",
      "n_estimators -  40 , MRA:  0.694038714979\n",
      "n_estimators -  30 , MRA:  0.690006465743\n",
      "n_estimators -  20 , MRA:  0.682461871507\n",
      "n_estimators -  10 , MRA:  0.664850689035\n"
     ]
    }
   ],
   "source": [
    "score_sorted = sorted(score.items(), key=operator.itemgetter(1), reverse=True)\n",
    "for x in score_sorted:\n",
    "    print \"n_estimators - \", x[0], ', MRA: ', x[1]"
   ]
  },
  {
   "cell_type": "markdown",
   "metadata": {},
   "source": [
    "### Step 2: Logistic Regression with same data\n",
    "#### Logistic Regression preprocessing"
   ]
  },
  {
   "cell_type": "code",
   "execution_count": 51,
   "metadata": {
    "collapsed": true
   },
   "outputs": [],
   "source": [
    "scaler = StandardScaler()\n",
    "X = scaler.fit_transform(df_GB.values[:,:])"
   ]
  },
  {
   "cell_type": "markdown",
   "metadata": {},
   "source": [
    "#### Logistic Regression Classifier train:"
   ]
  },
  {
   "cell_type": "code",
   "execution_count": 52,
   "metadata": {
    "collapsed": false
   },
   "outputs": [
    {
     "name": "stdout",
     "output_type": "stream",
     "text": [
      "Train time:  0:01:47.071483\n"
     ]
    }
   ],
   "source": [
    "start_time = datetime.datetime.now()\n",
    "grid = {'C': np.power(10.0, np.arange(-5, 6))}\n",
    "kf = KFold(df_GB.shape[0], n_folds=5, shuffle=True, random_state=42)\n",
    "clf = LogisticRegression(random_state=42)\n",
    "gs = GridSearchCV(clf, grid, scoring='roc_auc', cv=kf)\n",
    "gs.fit(X, y)\n",
    "print 'Train time: ', datetime.datetime.now() - start_time\n",
    "res = {}\n",
    "for a in gs.grid_scores_:\n",
    "    res[a.parameters['C']] = a.mean_validation_score"
   ]
  },
  {
   "cell_type": "markdown",
   "metadata": {},
   "source": [
    "#### Logistic Regression Classifier results (with same data):"
   ]
  },
  {
   "cell_type": "code",
   "execution_count": 53,
   "metadata": {
    "collapsed": false
   },
   "outputs": [
    {
     "name": "stdout",
     "output_type": "stream",
     "text": [
      "(0.01, 0.71655027078545253)\n",
      "(0.10000000000000001, 0.71652715290247604)\n",
      "(1.0, 0.71652260565844972)\n",
      "(100000.0, 0.71652232809180305)\n",
      "(10000.0, 0.71652232809180305)\n",
      "(1000.0, 0.71652232279685468)\n",
      "(100.0, 0.71652229525749866)\n",
      "(10.0, 0.71652228783665373)\n",
      "(0.001, 0.7163635388802202)\n",
      "(0.0001, 0.71135774820313558)\n",
      "(1.0000000000000001e-05, 0.69516168122680189)\n"
     ]
    }
   ],
   "source": [
    "res_sorted = sorted(res.items(), key=operator.itemgetter(1), reverse=True)\n",
    "for x in res_sorted:\n",
    "    print x"
   ]
  },
  {
   "cell_type": "markdown",
   "metadata": {},
   "source": [
    "### Step 3: Logistic Regression without factor data\n",
    "#### Logistic Regression preprocessing:"
   ]
  },
  {
   "cell_type": "code",
   "execution_count": 54,
   "metadata": {
    "collapsed": false
   },
   "outputs": [],
   "source": [
    "df_LC = df_GB.drop(['lobby_type', 'r1_hero', 'r2_hero', 'r3_hero', 'r4_hero', 'r5_hero', 'd1_hero', 'd2_hero', 'd3_hero', 'd4_hero', 'd5_hero'], axis = 1)\n",
    "scaler = StandardScaler()\n",
    "X = scaler.fit_transform(df_LC.values[:,:])"
   ]
  },
  {
   "cell_type": "markdown",
   "metadata": {},
   "source": [
    "#### Logistic Regression Classifier train:"
   ]
  },
  {
   "cell_type": "code",
   "execution_count": 55,
   "metadata": {
    "collapsed": false
   },
   "outputs": [
    {
     "name": "stdout",
     "output_type": "stream",
     "text": [
      "Train time:  0:01:37.354599\n"
     ]
    }
   ],
   "source": [
    "start_time = datetime.datetime.now()\n",
    "grid = {'C': np.power(10.0, np.arange(-5, 6))}\n",
    "kf = KFold(df_LC.shape[0], n_folds=5, shuffle=True, random_state=42)\n",
    "clf = LogisticRegression(random_state=42)\n",
    "gs = GridSearchCV(clf, grid, scoring='roc_auc', cv=kf)\n",
    "gs.fit(X, y)\n",
    "print 'Train time: ', datetime.datetime.now() - start_time\n",
    "res = {}\n",
    "for a in gs.grid_scores_:\n",
    "    res[a.parameters['C']] = a.mean_validation_score"
   ]
  },
  {
   "cell_type": "markdown",
   "metadata": {},
   "source": [
    "#### Logistic Regression Classifier(without factor data) results:"
   ]
  },
  {
   "cell_type": "code",
   "execution_count": 56,
   "metadata": {
    "collapsed": false
   },
   "outputs": [
    {
     "name": "stdout",
     "output_type": "stream",
     "text": [
      "(0.01, 0.71655938644491313)\n",
      "(0.10000000000000001, 0.71653423928740845)\n",
      "(1.0, 0.71653036557015803)\n",
      "(10.0, 0.71652997150291353)\n",
      "(100.0, 0.71652988994720035)\n",
      "(1000.0, 0.71652988888483093)\n",
      "(100000.0, 0.71652988358996439)\n",
      "(10000.0, 0.71652988358996439)\n",
      "(0.001, 0.71637579990811728)\n",
      "(0.0001, 0.7113391458629873)\n",
      "(1.0000000000000001e-05, 0.69510018710653076)\n"
     ]
    }
   ],
   "source": [
    "res_sorted = sorted(res.items(), key=operator.itemgetter(1), reverse=True)\n",
    "for x in res_sorted:\n",
    "    print x"
   ]
  },
  {
   "cell_type": "markdown",
   "metadata": {},
   "source": [
    "### Step 4: Logistic Regression Classifier with new heroes data\n",
    "#### Heroes number:"
   ]
  },
  {
   "cell_type": "code",
   "execution_count": 57,
   "metadata": {
    "collapsed": false
   },
   "outputs": [
    {
     "name": "stdout",
     "output_type": "stream",
     "text": [
      "Number of playing heroes -  108\n",
      "Number of unique playing heroes -  112\n"
     ]
    }
   ],
   "source": [
    "print \"Number of playing heroes - \",\\\n",
    "    len(np.unique(df[['r1_hero', 'r2_hero', 'r3_hero', 'r4_hero', 'r5_hero', 'd1_hero', 'd2_hero', 'd3_hero', 'd4_hero', 'd5_hero']].values))\n",
    "print \"Number of unique playing heroes - \",\\\n",
    "    np.max(np.unique(df[['r1_hero', 'r2_hero', 'r3_hero', 'r4_hero', 'r5_hero', 'd1_hero', 'd2_hero', 'd3_hero', 'd4_hero', 'd5_hero']].values))"
   ]
  },
  {
   "cell_type": "markdown",
   "metadata": {},
   "source": [
    "#### DF transformation function:"
   ]
  },
  {
   "cell_type": "code",
   "execution_count": 62,
   "metadata": {
    "collapsed": false
   },
   "outputs": [],
   "source": [
    "def dataPick(data):\n",
    "    N = np.max(np.unique(df[['r1_hero', 'r2_hero', 'r3_hero', 'r4_hero', 'r5_hero', 'd1_hero', 'd2_hero', 'd3_hero', 'd4_hero', 'd5_hero']].values))\n",
    "    X_pick = np.zeros((data.shape[0], N))\n",
    "\n",
    "    for i, match_id in enumerate(data.index):\n",
    "        for p in xrange(5):\n",
    "            X_pick[i, data.ix[match_id, 'r%d_hero' % (p+1)]-1] = 1\n",
    "            X_pick[i, data.ix[match_id, 'd%d_hero' % (p+1)]-1] = -1\n",
    "    for i, match_id in enumerate(data.index):\n",
    "        for p in xrange(5):\n",
    "            X_pick[i, data.ix[match_id, 'r%d_hero' % (p+1)]-1] = 1\n",
    "            X_pick[i, data.ix[match_id, 'd%d_hero' % (p+1)]-1] = -1\n",
    "    \n",
    "    res = data.drop(['lobby_type', 'r1_hero', 'r2_hero', 'r3_hero', 'r4_hero', 'r5_hero', 'd1_hero', 'd2_hero', 'd3_hero', 'd4_hero', 'd5_hero'], axis = 1)\n",
    "    \n",
    "    return np.hstack((res.values[:,:], X_pick))"
   ]
  },
  {
   "cell_type": "markdown",
   "metadata": {},
   "source": [
    "#### Logistic Regression Classifier preprocessing:"
   ]
  },
  {
   "cell_type": "code",
   "execution_count": 70,
   "metadata": {
    "collapsed": false
   },
   "outputs": [],
   "source": [
    "scaler = StandardScaler()\n",
    "numberOfHeroes = np.max(np.unique(df[['r1_hero', 'r2_hero', 'r3_hero', 'r4_hero', 'r5_hero', 'd1_hero', 'd2_hero', 'd3_hero', 'd4_hero', 'd5_hero']].values))\n",
    "X = scaler.fit_transform(dataPick(df_GB, numberOfHeroes))"
   ]
  },
  {
   "cell_type": "markdown",
   "metadata": {},
   "source": [
    "#### Logistic Regression Classifier train:"
   ]
  },
  {
   "cell_type": "code",
   "execution_count": 71,
   "metadata": {
    "collapsed": false
   },
   "outputs": [
    {
     "name": "stdout",
     "output_type": "stream",
     "text": [
      "Train time:  0:02:58.324178\n"
     ]
    }
   ],
   "source": [
    "start_time = datetime.datetime.now()\n",
    "grid = {'C': np.power(10.0, np.arange(-5, 6))}\n",
    "kf = KFold(X.shape[0], n_folds=5, shuffle=True, random_state=42)\n",
    "clf = LogisticRegression(random_state=42)\n",
    "gs = GridSearchCV(clf, grid, scoring='roc_auc', cv=kf)\n",
    "gs.fit(X, y)\n",
    "print 'Train time: ', datetime.datetime.now() - start_time\n",
    "res = {}\n",
    "for a in gs.grid_scores_:\n",
    "    res[a.parameters['C']] = a.mean_validation_score"
   ]
  },
  {
   "cell_type": "markdown",
   "metadata": {},
   "source": [
    "#### Logistic Regression Classifier(with new hereos data) results:"
   ]
  },
  {
   "cell_type": "code",
   "execution_count": 72,
   "metadata": {
    "collapsed": false
   },
   "outputs": [
    {
     "name": "stdout",
     "output_type": "stream",
     "text": [
      "(0.01, 0.75196404210253798)\n",
      "(0.10000000000000001, 0.75193003331953845)\n",
      "(1.0, 0.75192510895506792)\n",
      "(10.0, 0.75192475304500173)\n",
      "(100.0, 0.75192460156835972)\n",
      "(1000.0, 0.75192458674232154)\n",
      "(10000.0, 0.75192458568265552)\n",
      "(100000.0, 0.75192458144557917)\n",
      "(0.001, 0.75161270452605367)\n",
      "(0.0001, 0.74273874553935604)\n",
      "(1.0000000000000001e-05, 0.71479182916265049)\n"
     ]
    }
   ],
   "source": [
    "res_sorted = sorted(res.items(), key=operator.itemgetter(1), reverse=True)\n",
    "for x in res_sorted:\n",
    "    print x"
   ]
  },
  {
   "cell_type": "markdown",
   "metadata": {},
   "source": [
    "### Step 5: Best classifier with best data"
   ]
  },
  {
   "cell_type": "code",
   "execution_count": 73,
   "metadata": {
    "collapsed": false
   },
   "outputs": [
    {
     "data": {
      "text/plain": [
       "LogisticRegression(C=0.01, class_weight=None, dual=False, fit_intercept=True,\n",
       "          intercept_scaling=1, max_iter=100, multi_class='ovr', n_jobs=1,\n",
       "          penalty='l2', random_state=42, solver='liblinear', tol=0.0001,\n",
       "          verbose=0, warm_start=False)"
      ]
     },
     "execution_count": 73,
     "metadata": {},
     "output_type": "execute_result"
    }
   ],
   "source": [
    "clf = LogisticRegression(random_state=42, C=0.01)\n",
    "clf.fit(X,y)"
   ]
  },
  {
   "cell_type": "markdown",
   "metadata": {},
   "source": [
    "#### Test data preprocessing:"
   ]
  },
  {
   "cell_type": "code",
   "execution_count": 74,
   "metadata": {
    "collapsed": false
   },
   "outputs": [],
   "source": [
    "df_test = pd.read_csv('./features_test.csv', index_col='match_id')\n",
    "df_test.fillna(0, inplace=True)\n",
    "scaler = StandardScaler()\n",
    "X_test= scaler.fit_transform(dataPick(df_test, numberOfHeroes))"
   ]
  },
  {
   "cell_type": "markdown",
   "metadata": {},
   "source": [
    "#### Test data predictions:"
   ]
  },
  {
   "cell_type": "code",
   "execution_count": 75,
   "metadata": {
    "collapsed": false
   },
   "outputs": [],
   "source": [
    "y_pred = clf.predict_proba(X_test)\n",
    "df_test['radiant_win'] = y_pred[:, 0]"
   ]
  },
  {
   "cell_type": "markdown",
   "metadata": {},
   "source": [
    "#### Write answer for Kaggle:"
   ]
  },
  {
   "cell_type": "code",
   "execution_count": 76,
   "metadata": {
    "collapsed": false
   },
   "outputs": [],
   "source": [
    "df_to_write = df_test['radiant_win']\n",
    "df_to_write.to_csv('results.csv', sep=',', encoding='utf-8', header=True)"
   ]
  },
  {
   "cell_type": "code",
   "execution_count": null,
   "metadata": {
    "collapsed": true
   },
   "outputs": [],
   "source": []
  }
 ],
 "metadata": {
  "kernelspec": {
   "display_name": "Python 2",
   "language": "python",
   "name": "python2"
  },
  "language_info": {
   "codemirror_mode": {
    "name": "ipython",
    "version": 2
   },
   "file_extension": ".py",
   "mimetype": "text/x-python",
   "name": "python",
   "nbconvert_exporter": "python",
   "pygments_lexer": "ipython2",
   "version": "2.7.11"
  }
 },
 "nbformat": 4,
 "nbformat_minor": 0
}
