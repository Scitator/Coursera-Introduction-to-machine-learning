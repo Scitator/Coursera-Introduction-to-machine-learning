{
 "cells": [
  {
   "cell_type": "code",
   "execution_count": 1,
   "metadata": {
    "collapsed": true
   },
   "outputs": [],
   "source": [
    "from sklearn import svm, grid_search, datasets"
   ]
  },
  {
   "cell_type": "code",
   "execution_count": 10,
   "metadata": {
    "collapsed": true
   },
   "outputs": [],
   "source": [
    "iris = datasets.load_iris()\n",
    "parameters = {'kernel':('linear', 'rbf'), 'C':[1, 10]}\n",
    "svr = svm.SVC()\n",
    "clf = grid_search.GridSearchCV(svr, parameters, verbose=10, cv=5)"
   ]
  },
  {
   "cell_type": "code",
   "execution_count": 11,
   "metadata": {
    "collapsed": false
   },
   "outputs": [
    {
     "name": "stdout",
     "output_type": "stream",
     "text": [
      "Fitting 5 folds for each of 4 candidates, totalling 20 fits\n",
      "[CV] kernel=linear, C=1 ..............................................\n",
      "[CV] ..................... kernel=linear, C=1, score=0.966667 -   0.0s\n",
      "[CV] kernel=linear, C=1 ..............................................\n",
      "[CV] ..................... kernel=linear, C=1, score=1.000000 -   0.0s\n",
      "[CV] kernel=linear, C=1 ..............................................\n",
      "[CV] ..................... kernel=linear, C=1, score=0.966667 -   0.0s\n",
      "[CV] kernel=linear, C=1 ..............................................\n",
      "[CV] ..................... kernel=linear, C=1, score=0.966667 -   0.0s\n",
      "[CV] kernel=linear, C=1 ..............................................\n",
      "[CV] ..................... kernel=linear, C=1, score=1.000000 -   0.0s\n",
      "[CV] kernel=rbf, C=1 .................................................\n",
      "[CV] ........................ kernel=rbf, C=1, score=0.966667 -   0.0s\n",
      "[CV] kernel=rbf, C=1 .................................................\n",
      "[CV] ........................ kernel=rbf, C=1, score=1.000000 -   0.0s\n",
      "[CV] kernel=rbf, C=1 .................................................\n",
      "[CV] ........................ kernel=rbf, C=1, score=0.966667 -   0.0s\n",
      "[CV] kernel=rbf, C=1 .................................................\n",
      "[CV] ........................ kernel=rbf, C=1, score=0.966667 -   0.0s\n",
      "[CV] kernel=rbf, C=1 .................................................\n",
      "[CV] ........................ kernel=rbf, C=1, score=1.000000 -   0.0s\n",
      "[CV] kernel=linear, C=10 .............................................\n",
      "[CV] .................... kernel=linear, C=10, score=1.000000 -   0.0s\n",
      "[CV] kernel=linear, C=10 .............................................\n",
      "[CV] .................... kernel=linear, C=10, score=1.000000 -   0.0s\n",
      "[CV] kernel=linear, C=10 .............................................\n",
      "[CV] .................... kernel=linear, C=10, score=0.900000 -   0.0s\n",
      "[CV] kernel=linear, C=10 .............................................\n",
      "[CV] .................... kernel=linear, C=10, score=0.966667 -   0.0s\n",
      "[CV] kernel=linear, C=10 .............................................\n",
      "[CV] .................... kernel=linear, C=10, score=1.000000 -   0.0s"
     ]
    },
    {
     "name": "stderr",
     "output_type": "stream",
     "text": [
      "[Parallel(n_jobs=1)]: Done   1 tasks       | elapsed:    0.0s\n",
      "[Parallel(n_jobs=1)]: Done   4 tasks       | elapsed:    0.0s\n",
      "[Parallel(n_jobs=1)]: Done   7 tasks       | elapsed:    0.0s\n",
      "[Parallel(n_jobs=1)]: Done  12 tasks       | elapsed:    0.0s\n",
      "[Parallel(n_jobs=1)]: Done  17 tasks       | elapsed:    0.1s\n",
      "[Parallel(n_jobs=1)]: Done  20 out of  20 | elapsed:    0.1s finished\n"
     ]
    },
    {
     "name": "stdout",
     "output_type": "stream",
     "text": [
      "\n",
      "[CV] kernel=rbf, C=10 ................................................\n",
      "[CV] ....................... kernel=rbf, C=10, score=0.966667 -   0.0s\n",
      "[CV] kernel=rbf, C=10 ................................................\n",
      "[CV] ....................... kernel=rbf, C=10, score=1.000000 -   0.0s\n",
      "[CV] kernel=rbf, C=10 ................................................\n",
      "[CV] ....................... kernel=rbf, C=10, score=0.966667 -   0.0s\n",
      "[CV] kernel=rbf, C=10 ................................................\n",
      "[CV] ....................... kernel=rbf, C=10, score=0.966667 -   0.0s\n",
      "[CV] kernel=rbf, C=10 ................................................\n",
      "[CV] ....................... kernel=rbf, C=10, score=1.000000 -   0.0s\n"
     ]
    },
    {
     "data": {
      "text/plain": [
       "GridSearchCV(cv=5, error_score='raise',\n",
       "       estimator=SVC(C=1.0, cache_size=200, class_weight=None, coef0=0.0,\n",
       "  decision_function_shape=None, degree=3, gamma='auto', kernel='rbf',\n",
       "  max_iter=-1, probability=False, random_state=None, shrinking=True,\n",
       "  tol=0.001, verbose=False),\n",
       "       fit_params={}, iid=True, n_jobs=1,\n",
       "       param_grid={'kernel': ('linear', 'rbf'), 'C': [1, 10]},\n",
       "       pre_dispatch='2*n_jobs', refit=True, scoring=None, verbose=10)"
      ]
     },
     "execution_count": 11,
     "metadata": {},
     "output_type": "execute_result"
    }
   ],
   "source": [
    "clf.fit(iris.data, iris.target)"
   ]
  },
  {
   "cell_type": "code",
   "execution_count": 7,
   "metadata": {
    "collapsed": false
   },
   "outputs": [
    {
     "data": {
      "text/plain": [
       "{'C': 1, 'kernel': 'linear'}"
      ]
     },
     "execution_count": 7,
     "metadata": {},
     "output_type": "execute_result"
    }
   ],
   "source": [
    "clf.best_params_"
   ]
  },
  {
   "cell_type": "code",
   "execution_count": null,
   "metadata": {
    "collapsed": true
   },
   "outputs": [],
   "source": []
  }
 ],
 "metadata": {
  "kernelspec": {
   "display_name": "Python 2",
   "language": "python",
   "name": "python2"
  },
  "language_info": {
   "codemirror_mode": {
    "name": "ipython",
    "version": 2
   },
   "file_extension": ".py",
   "mimetype": "text/x-python",
   "name": "python",
   "nbconvert_exporter": "python",
   "pygments_lexer": "ipython2",
   "version": "2.7.11"
  }
 },
 "nbformat": 4,
 "nbformat_minor": 0
}
